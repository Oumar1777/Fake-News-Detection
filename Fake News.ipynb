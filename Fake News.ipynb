{
 "cells": [
  {
   "cell_type": "markdown",
   "id": "15cf18f3",
   "metadata": {},
   "source": [
    "# Discovering Fake News using Python and Machine Learning"
   ]
  },
  {
   "cell_type": "markdown",
   "id": "722ba673",
   "metadata": {},
   "source": [
    "During this exercise, we will attempt to create a machine learning model capable of detecting fake news."
   ]
  },
  {
   "cell_type": "markdown",
   "id": "02e0ab0b",
   "metadata": {},
   "source": [
    "## Imports"
   ]
  },
  {
   "cell_type": "code",
   "execution_count": 2,
   "id": "654edf44",
   "metadata": {},
   "outputs": [],
   "source": [
    "import pandas as pd\n",
    "import numpy as np\n",
    "import matplotlib.pyplot as plt\n",
    "\n",
    "from sklearn.model_selection import train_test_split\n",
    "from sklearn.metrics import accuracy_score\n",
    "from sklearn.metrics import classification_report\n",
    "\n",
    "import re\n",
    "import string"
   ]
  },
  {
   "cell_type": "markdown",
   "id": "94c3a856",
   "metadata": {},
   "source": [
    "## Data Loading and Preparation"
   ]
  },
  {
   "cell_type": "code",
   "execution_count": 3,
   "id": "e6a7b71f",
   "metadata": {},
   "outputs": [],
   "source": [
    "somenews = pd.read_csv('somenews.csv')"
   ]
  },
  {
   "cell_type": "code",
   "execution_count": 4,
   "id": "be35683a",
   "metadata": {},
   "outputs": [
    {
     "data": {
      "text/plain": [
       "(6335, 4)"
      ]
     },
     "execution_count": 4,
     "metadata": {},
     "output_type": "execute_result"
    }
   ],
   "source": [
    "somenews.shape"
   ]
  },
  {
   "cell_type": "code",
   "execution_count": 5,
   "id": "2dbb4812",
   "metadata": {},
   "outputs": [
    {
     "data": {
      "text/html": [
       "<div>\n",
       "<style scoped>\n",
       "    .dataframe tbody tr th:only-of-type {\n",
       "        vertical-align: middle;\n",
       "    }\n",
       "\n",
       "    .dataframe tbody tr th {\n",
       "        vertical-align: top;\n",
       "    }\n",
       "\n",
       "    .dataframe thead th {\n",
       "        text-align: right;\n",
       "    }\n",
       "</style>\n",
       "<table border=\"1\" class=\"dataframe\">\n",
       "  <thead>\n",
       "    <tr style=\"text-align: right;\">\n",
       "      <th></th>\n",
       "      <th>Unnamed: 0</th>\n",
       "      <th>title</th>\n",
       "      <th>text</th>\n",
       "      <th>label</th>\n",
       "    </tr>\n",
       "  </thead>\n",
       "  <tbody>\n",
       "    <tr>\n",
       "      <th>0</th>\n",
       "      <td>8476</td>\n",
       "      <td>You Can Smell Hillary’s Fear</td>\n",
       "      <td>Daniel Greenfield, a Shillman Journalism Fello...</td>\n",
       "      <td>FAKE</td>\n",
       "    </tr>\n",
       "    <tr>\n",
       "      <th>1</th>\n",
       "      <td>10294</td>\n",
       "      <td>Watch The Exact Moment Paul Ryan Committed Pol...</td>\n",
       "      <td>Google Pinterest Digg Linkedin Reddit Stumbleu...</td>\n",
       "      <td>FAKE</td>\n",
       "    </tr>\n",
       "    <tr>\n",
       "      <th>2</th>\n",
       "      <td>3608</td>\n",
       "      <td>Kerry to go to Paris in gesture of sympathy</td>\n",
       "      <td>U.S. Secretary of State John F. Kerry said Mon...</td>\n",
       "      <td>REAL</td>\n",
       "    </tr>\n",
       "    <tr>\n",
       "      <th>3</th>\n",
       "      <td>10142</td>\n",
       "      <td>Bernie supporters on Twitter erupt in anger ag...</td>\n",
       "      <td>— Kaydee King (@KaydeeKing) November 9, 2016 T...</td>\n",
       "      <td>FAKE</td>\n",
       "    </tr>\n",
       "    <tr>\n",
       "      <th>4</th>\n",
       "      <td>875</td>\n",
       "      <td>The Battle of New York: Why This Primary Matters</td>\n",
       "      <td>It's primary day in New York and front-runners...</td>\n",
       "      <td>REAL</td>\n",
       "    </tr>\n",
       "    <tr>\n",
       "      <th>5</th>\n",
       "      <td>6903</td>\n",
       "      <td>Tehran, USA</td>\n",
       "      <td>\\nI’m not an immigrant, but my grandparents ...</td>\n",
       "      <td>FAKE</td>\n",
       "    </tr>\n",
       "  </tbody>\n",
       "</table>\n",
       "</div>"
      ],
      "text/plain": [
       "   Unnamed: 0                                              title  \\\n",
       "0        8476                       You Can Smell Hillary’s Fear   \n",
       "1       10294  Watch The Exact Moment Paul Ryan Committed Pol...   \n",
       "2        3608        Kerry to go to Paris in gesture of sympathy   \n",
       "3       10142  Bernie supporters on Twitter erupt in anger ag...   \n",
       "4         875   The Battle of New York: Why This Primary Matters   \n",
       "5        6903                                        Tehran, USA   \n",
       "\n",
       "                                                text label  \n",
       "0  Daniel Greenfield, a Shillman Journalism Fello...  FAKE  \n",
       "1  Google Pinterest Digg Linkedin Reddit Stumbleu...  FAKE  \n",
       "2  U.S. Secretary of State John F. Kerry said Mon...  REAL  \n",
       "3  — Kaydee King (@KaydeeKing) November 9, 2016 T...  FAKE  \n",
       "4  It's primary day in New York and front-runners...  REAL  \n",
       "5    \\nI’m not an immigrant, but my grandparents ...  FAKE  "
      ]
     },
     "execution_count": 5,
     "metadata": {},
     "output_type": "execute_result"
    }
   ],
   "source": [
    "somenews.head(6)"
   ]
  },
  {
   "cell_type": "markdown",
   "id": "2c68e933",
   "metadata": {},
   "source": [
    "Machines learn better with num values than with strings so first we'll add a new class 'class' with 0 for fake and 1 for real"
   ]
  },
  {
   "cell_type": "code",
   "execution_count": 6,
   "id": "3d87f795",
   "metadata": {},
   "outputs": [],
   "source": [
    "somenews['class'] = [0 if value == 'FAKE' else 1 for value in somenews['label']]"
   ]
  },
  {
   "cell_type": "code",
   "execution_count": 7,
   "id": "361f5ed8",
   "metadata": {},
   "outputs": [
    {
     "data": {
      "text/html": [
       "<div>\n",
       "<style scoped>\n",
       "    .dataframe tbody tr th:only-of-type {\n",
       "        vertical-align: middle;\n",
       "    }\n",
       "\n",
       "    .dataframe tbody tr th {\n",
       "        vertical-align: top;\n",
       "    }\n",
       "\n",
       "    .dataframe thead th {\n",
       "        text-align: right;\n",
       "    }\n",
       "</style>\n",
       "<table border=\"1\" class=\"dataframe\">\n",
       "  <thead>\n",
       "    <tr style=\"text-align: right;\">\n",
       "      <th></th>\n",
       "      <th>Unnamed: 0</th>\n",
       "      <th>title</th>\n",
       "      <th>text</th>\n",
       "      <th>label</th>\n",
       "      <th>class</th>\n",
       "    </tr>\n",
       "  </thead>\n",
       "  <tbody>\n",
       "    <tr>\n",
       "      <th>0</th>\n",
       "      <td>8476</td>\n",
       "      <td>You Can Smell Hillary’s Fear</td>\n",
       "      <td>Daniel Greenfield, a Shillman Journalism Fello...</td>\n",
       "      <td>FAKE</td>\n",
       "      <td>0</td>\n",
       "    </tr>\n",
       "    <tr>\n",
       "      <th>1</th>\n",
       "      <td>10294</td>\n",
       "      <td>Watch The Exact Moment Paul Ryan Committed Pol...</td>\n",
       "      <td>Google Pinterest Digg Linkedin Reddit Stumbleu...</td>\n",
       "      <td>FAKE</td>\n",
       "      <td>0</td>\n",
       "    </tr>\n",
       "    <tr>\n",
       "      <th>2</th>\n",
       "      <td>3608</td>\n",
       "      <td>Kerry to go to Paris in gesture of sympathy</td>\n",
       "      <td>U.S. Secretary of State John F. Kerry said Mon...</td>\n",
       "      <td>REAL</td>\n",
       "      <td>1</td>\n",
       "    </tr>\n",
       "    <tr>\n",
       "      <th>3</th>\n",
       "      <td>10142</td>\n",
       "      <td>Bernie supporters on Twitter erupt in anger ag...</td>\n",
       "      <td>— Kaydee King (@KaydeeKing) November 9, 2016 T...</td>\n",
       "      <td>FAKE</td>\n",
       "      <td>0</td>\n",
       "    </tr>\n",
       "    <tr>\n",
       "      <th>4</th>\n",
       "      <td>875</td>\n",
       "      <td>The Battle of New York: Why This Primary Matters</td>\n",
       "      <td>It's primary day in New York and front-runners...</td>\n",
       "      <td>REAL</td>\n",
       "      <td>1</td>\n",
       "    </tr>\n",
       "    <tr>\n",
       "      <th>5</th>\n",
       "      <td>6903</td>\n",
       "      <td>Tehran, USA</td>\n",
       "      <td>\\nI’m not an immigrant, but my grandparents ...</td>\n",
       "      <td>FAKE</td>\n",
       "      <td>0</td>\n",
       "    </tr>\n",
       "  </tbody>\n",
       "</table>\n",
       "</div>"
      ],
      "text/plain": [
       "   Unnamed: 0                                              title  \\\n",
       "0        8476                       You Can Smell Hillary’s Fear   \n",
       "1       10294  Watch The Exact Moment Paul Ryan Committed Pol...   \n",
       "2        3608        Kerry to go to Paris in gesture of sympathy   \n",
       "3       10142  Bernie supporters on Twitter erupt in anger ag...   \n",
       "4         875   The Battle of New York: Why This Primary Matters   \n",
       "5        6903                                        Tehran, USA   \n",
       "\n",
       "                                                text label  class  \n",
       "0  Daniel Greenfield, a Shillman Journalism Fello...  FAKE      0  \n",
       "1  Google Pinterest Digg Linkedin Reddit Stumbleu...  FAKE      0  \n",
       "2  U.S. Secretary of State John F. Kerry said Mon...  REAL      1  \n",
       "3  — Kaydee King (@KaydeeKing) November 9, 2016 T...  FAKE      0  \n",
       "4  It's primary day in New York and front-runners...  REAL      1  \n",
       "5    \\nI’m not an immigrant, but my grandparents ...  FAKE      0  "
      ]
     },
     "execution_count": 7,
     "metadata": {},
     "output_type": "execute_result"
    }
   ],
   "source": [
    "somenews.head(6)"
   ]
  },
  {
   "cell_type": "markdown",
   "id": "96e290c9",
   "metadata": {},
   "source": [
    "Now we don't need label column anymore, and the first column has unique number for each rows i don't think it will be useful for the training.\n",
    "So we will delete the first column \"Unnamed\" and the fourth column \"label\""
   ]
  },
  {
   "cell_type": "code",
   "execution_count": 8,
   "id": "372cfed2",
   "metadata": {},
   "outputs": [
    {
     "data": {
      "text/plain": [
       "Index(['Unnamed: 0', 'title', 'text', 'label', 'class'], dtype='object')"
      ]
     },
     "execution_count": 8,
     "metadata": {},
     "output_type": "execute_result"
    }
   ],
   "source": [
    "somenews.columns"
   ]
  },
  {
   "cell_type": "code",
   "execution_count": 9,
   "id": "fefffa9e",
   "metadata": {},
   "outputs": [],
   "source": [
    "data = somenews.drop(['Unnamed: 0', 'label'], axis=1)"
   ]
  },
  {
   "cell_type": "code",
   "execution_count": 10,
   "id": "76fa615d",
   "metadata": {},
   "outputs": [
    {
     "data": {
      "text/html": [
       "<div>\n",
       "<style scoped>\n",
       "    .dataframe tbody tr th:only-of-type {\n",
       "        vertical-align: middle;\n",
       "    }\n",
       "\n",
       "    .dataframe tbody tr th {\n",
       "        vertical-align: top;\n",
       "    }\n",
       "\n",
       "    .dataframe thead th {\n",
       "        text-align: right;\n",
       "    }\n",
       "</style>\n",
       "<table border=\"1\" class=\"dataframe\">\n",
       "  <thead>\n",
       "    <tr style=\"text-align: right;\">\n",
       "      <th></th>\n",
       "      <th>title</th>\n",
       "      <th>text</th>\n",
       "      <th>class</th>\n",
       "    </tr>\n",
       "  </thead>\n",
       "  <tbody>\n",
       "    <tr>\n",
       "      <th>0</th>\n",
       "      <td>You Can Smell Hillary’s Fear</td>\n",
       "      <td>Daniel Greenfield, a Shillman Journalism Fello...</td>\n",
       "      <td>0</td>\n",
       "    </tr>\n",
       "    <tr>\n",
       "      <th>1</th>\n",
       "      <td>Watch The Exact Moment Paul Ryan Committed Pol...</td>\n",
       "      <td>Google Pinterest Digg Linkedin Reddit Stumbleu...</td>\n",
       "      <td>0</td>\n",
       "    </tr>\n",
       "    <tr>\n",
       "      <th>2</th>\n",
       "      <td>Kerry to go to Paris in gesture of sympathy</td>\n",
       "      <td>U.S. Secretary of State John F. Kerry said Mon...</td>\n",
       "      <td>1</td>\n",
       "    </tr>\n",
       "    <tr>\n",
       "      <th>3</th>\n",
       "      <td>Bernie supporters on Twitter erupt in anger ag...</td>\n",
       "      <td>— Kaydee King (@KaydeeKing) November 9, 2016 T...</td>\n",
       "      <td>0</td>\n",
       "    </tr>\n",
       "    <tr>\n",
       "      <th>4</th>\n",
       "      <td>The Battle of New York: Why This Primary Matters</td>\n",
       "      <td>It's primary day in New York and front-runners...</td>\n",
       "      <td>1</td>\n",
       "    </tr>\n",
       "  </tbody>\n",
       "</table>\n",
       "</div>"
      ],
      "text/plain": [
       "                                               title  \\\n",
       "0                       You Can Smell Hillary’s Fear   \n",
       "1  Watch The Exact Moment Paul Ryan Committed Pol...   \n",
       "2        Kerry to go to Paris in gesture of sympathy   \n",
       "3  Bernie supporters on Twitter erupt in anger ag...   \n",
       "4   The Battle of New York: Why This Primary Matters   \n",
       "\n",
       "                                                text  class  \n",
       "0  Daniel Greenfield, a Shillman Journalism Fello...      0  \n",
       "1  Google Pinterest Digg Linkedin Reddit Stumbleu...      0  \n",
       "2  U.S. Secretary of State John F. Kerry said Mon...      1  \n",
       "3  — Kaydee King (@KaydeeKing) November 9, 2016 T...      0  \n",
       "4  It's primary day in New York and front-runners...      1  "
      ]
     },
     "execution_count": 10,
     "metadata": {},
     "output_type": "execute_result"
    }
   ],
   "source": [
    "data.head(5)"
   ]
  },
  {
   "cell_type": "code",
   "execution_count": 11,
   "id": "26fc1042",
   "metadata": {},
   "outputs": [
    {
     "data": {
      "text/plain": [
       "Index(['title', 'text', 'class'], dtype='object')"
      ]
     },
     "execution_count": 11,
     "metadata": {},
     "output_type": "execute_result"
    }
   ],
   "source": [
    "data.columns"
   ]
  },
  {
   "cell_type": "code",
   "execution_count": 12,
   "id": "e6df2012",
   "metadata": {},
   "outputs": [
    {
     "data": {
      "text/plain": [
       "<Axes: xlabel='class', ylabel='count'>"
      ]
     },
     "execution_count": 12,
     "metadata": {},
     "output_type": "execute_result"
    },
    {
     "data": {
      "image/png": "[encoded data removed]",
      "text/plain": [
       "<Figure size 640x480 with 1 Axes>"
      ]
     },
     "metadata": {},
     "output_type": "display_data"
    }
   ],
   "source": [
    "import seaborn as sns\n",
    "sns.countplot(x='class', data=data)"
   ]
  },
  {
   "cell_type": "markdown",
   "id": "44c2a52d",
   "metadata": {},
   "source": [
    "We have an equal or almost equal repartition of fake news and real news"
   ]
  },
  {
   "cell_type": "markdown",
   "id": "b580e7fe",
   "metadata": {},
   "source": [
    "### Text Preprocessing "
   ]
  },
  {
   "cell_type": "markdown",
   "id": "c84a6d5b",
   "metadata": {},
   "source": [
    "For improved machine learning model training, it is advisable to make some modifications to the text. For example :   \n",
    "Convert all the letters to lowercase;  \n",
    "remove punctuation, special characters, and HTML tags, links;  \n"
   ]
  },
  {
   "cell_type": "code",
   "execution_count": 13,
   "id": "28300782",
   "metadata": {},
   "outputs": [],
   "source": [
    "def txtpreprocess(text):\n",
    "    # lowercase\n",
    "    text = text.lower()\n",
    "    # remove special characters (non-alphanumeric)\n",
    "    text = re.sub(\"\\\\W\", \" \", text)\n",
    "    # remove square brackets and their contents\n",
    "    text = re.sub('\\[.*?]', '', text)\n",
    "    # remove links\n",
    "    text = re.sub('https?://\\S|www\\.\\S+', '', text)\n",
    "    # remove tags\n",
    "    text = re.sub('<.*?>+', '', text)\n",
    "    # remove punctuation\n",
    "    text = re.sub('[%s]' % re.escape(string.punctuation), '', text)\n",
    "    # remove newline characters,\n",
    "    text = re.sub('\\n', '', text)\n",
    "    # remove alphanumeric strings with digits\n",
    "    text = re.sub('\\w*\\d\\w*', '', text)\n",
    "    \n",
    "    return text "
   ]
  },
  {
   "cell_type": "code",
   "execution_count": 14,
   "id": "6af27ffc",
   "metadata": {},
   "outputs": [
    {
     "name": "stdout",
     "output_type": "stream",
     "text": [
      "Original Text :\n",
      "Daniel Greenfield, a Shillman Journalism Fellow at the Freedom Center, is a New York writer focusing on radical Islam. \n",
      "In the final stretch of the election, Hillary Rodham Clinton has gone to war with the FBI. \n",
      "The word “unprecedented” has been thrown around so often this election that it ought to be retired. But it’s still unprecedented for the nominee of a major political party to go war with the FBI. \n",
      "But that’s exactly what Hillary and her people have done. Coma patients just waking up now and watching an hour of CNN from their hospital beds would assume that FBI Director James Comey is Hillary’s opponent in this election. \n",
      "The FBI is under attack by everyone from Obama to CNN. Hillary’s people have circulated a letter attacking Comey. There are currently more media hit pieces lambasting him than targeting Trump. It wouldn’t be too surprising if the Clintons or their allies were to start running attack ads against the FBI. \n",
      "The FBI’s leadership is being warned that the entire left-wing establishment will form a lynch mob if they continue going after Hillary. And the FBI’s credibility is being attacked by the media and the Democrats to preemptively head off the results of the investigation of the Clinton Foundation and Hillary Clinton. \n",
      "The covert struggle between FBI agents and Obama’s DOJ people has gone explosively public. \n",
      "The New York Times has compared Comey to J. Edgar Hoover. Its bizarre headline, “James Comey Role Recalls Hoover’s FBI, Fairly or Not” practically admits up front that it’s spouting nonsense. The Boston Globe has published a column calling for Comey’s resignation. Not to be outdone, Time has an editorial claiming that the scandal is really an attack on all women. \n",
      "James Carville appeared on MSNBC to remind everyone that he was still alive and insane. He accused Comey of coordinating with House Republicans and the KGB. And you thought the “vast right wing conspiracy” was a stretch. \n",
      "Countless media stories charge Comey with violating procedure. Do you know what’s a procedural violation? Emailing classified information stored on your bathroom server. \n",
      "Senator Harry Reid has sent Comey a letter accusing him of violating the Hatch Act. The Hatch Act is a nice idea that has as much relevance in the age of Obama as the Tenth Amendment. But the cable news spectrum quickly filled with media hacks glancing at the Wikipedia article on the Hatch Act under the table while accusing the FBI director of one of the most awkward conspiracies against Hillary ever. \n",
      "If James Comey is really out to hurt Hillary, he picked one hell of a strange way to do it. \n",
      "Not too long ago Democrats were breathing a sigh of relief when he gave Hillary Clinton a pass in a prominent public statement. If he really were out to elect Trump by keeping the email scandal going, why did he trash the investigation? Was he on the payroll of House Republicans and the KGB back then and playing it coy or was it a sudden development where Vladimir Putin and Paul Ryan talked him into taking a look at Anthony Weiner’s computer? \n",
      "Either Comey is the most cunning FBI director that ever lived or he’s just awkwardly trying to navigate a political mess that has trapped him between a DOJ leadership whose political futures are tied to Hillary’s victory and his own bureau whose apolitical agents just want to be allowed to do their jobs. \n",
      "The only truly mysterious thing is why Hillary and her associates decided to go to war with a respected Federal agency. Most Americans like the FBI while Hillary Clinton enjoys a 60% unfavorable rating. \n",
      "And it’s an interesting question. \n",
      "Hillary’s old strategy was to lie and deny that the FBI even had a criminal investigation underway. Instead her associates insisted that it was a security review. The FBI corrected her and she shrugged it off. But the old breezy denial approach has given way to a savage assault on the FBI. \n",
      "Pretending that nothing was wrong was a bad strategy, but it was a better one that picking a fight with the FBI while lunatic Clinton associates try to claim that the FBI is really the KGB. \n",
      "There are two possible explanations. \n",
      "Hillary Clinton might be arrogant enough to lash out at the FBI now that she believes that victory is near. The same kind of hubris that led her to plan her victory fireworks display could lead her to declare a war on the FBI for irritating her during the final miles of her campaign. \n",
      "But the other explanation is that her people panicked. \n",
      "Going to war with the FBI is not the behavior of a smart and focused presidential campaign. It’s an act of desperation. When a presidential candidate decides that her only option is to try and destroy the credibility of the FBI, that’s not hubris, it’s fear of what the FBI might be about to reveal about her. \n",
      "During the original FBI investigation, Hillary Clinton was confident that she could ride it out. And she had good reason for believing that. But that Hillary Clinton is gone. In her place is a paranoid wreck. Within a short space of time the “positive” Clinton campaign promising to unite the country has been replaced by a desperate and flailing operation that has focused all its energy on fighting the FBI. \n",
      "There’s only one reason for such bizarre behavior. \n",
      "The Clinton campaign has decided that an FBI investigation of the latest batch of emails poses a threat to its survival. And so it’s gone all in on fighting the FBI. It’s an unprecedented step born of fear. It’s hard to know whether that fear is justified. But the existence of that fear already tells us a whole lot. \n",
      "Clinton loyalists rigged the old investigation. They knew the outcome ahead of time as well as they knew the debate questions. Now suddenly they are no longer in control. And they are afraid. \n",
      "You can smell the fear. \n",
      "The FBI has wiretaps from the investigation of the Clinton Foundation. It’s finding new emails all the time. And Clintonworld panicked. The spinmeisters of Clintonworld have claimed that the email scandal is just so much smoke without fire. All that’s here is the appearance of impropriety without any of the substance. But this isn’t how you react to smoke. It’s how you respond to a fire. \n",
      "The misguided assault on the FBI tells us that Hillary Clinton and her allies are afraid of a revelation bigger than the fundamental illegality of her email setup. The email setup was a preemptive cover up. The Clinton campaign has panicked badly out of the belief, right or wrong, that whatever crime the illegal setup was meant to cover up is at risk of being exposed. \n",
      "The Clintons have weathered countless scandals over the years. Whatever they are protecting this time around is bigger than the usual corruption, bribery, sexual assaults and abuses of power that have followed them around throughout the years. This is bigger and more damaging than any of the allegations that have already come out. And they don’t want FBI investigators anywhere near it. \n",
      "The campaign against Comey is pure intimidation. It’s also a warning. Any senior FBI people who value their careers are being warned to stay away. The Democrats are closing ranks around their nominee against the FBI. It’s an ugly and unprecedented scene. It may also be their last stand. \n",
      "Hillary Clinton has awkwardly wound her way through numerous scandals in just this election cycle. But she’s never shown fear or desperation before. Now that has changed. Whatever she is afraid of, it lies buried in her emails with Huma Abedin. And it can bring her down like nothing else has.  \n"
     ]
    }
   ],
   "source": [
    "# Test Function\n",
    "text = data['text'][0]\n",
    "print(\"Original Text :\")\n",
    "print(text)"
   ]
  },
  {
   "cell_type": "code",
   "execution_count": 15,
   "id": "8c4405d4",
   "metadata": {},
   "outputs": [
    {
     "name": "stdout",
     "output_type": "stream",
     "text": [
      "Preprocessed Text :\n",
      "daniel greenfield  a shillman journalism fellow at the freedom center  is a new york writer focusing on radical islam   in the final stretch of the election  hillary rodham clinton has gone to war with the fbi   the word  unprecedented  has been thrown around so often this election that it ought to be retired  but it s still unprecedented for the nominee of a major political party to go war with the fbi   but that s exactly what hillary and her people have done  coma patients just waking up now and watching an hour of cnn from their hospital beds would assume that fbi director james comey is hillary s opponent in this election   the fbi is under attack by everyone from obama to cnn  hillary s people have circulated a letter attacking comey  there are currently more media hit pieces lambasting him than targeting trump  it wouldn t be too surprising if the clintons or their allies were to start running attack ads against the fbi   the fbi s leadership is being warned that the entire left wing establishment will form a lynch mob if they continue going after hillary  and the fbi s credibility is being attacked by the media and the democrats to preemptively head off the results of the investigation of the clinton foundation and hillary clinton   the covert struggle between fbi agents and obama s doj people has gone explosively public   the new york times has compared comey to j  edgar hoover  its bizarre headline   james comey role recalls hoover s fbi  fairly or not  practically admits up front that it s spouting nonsense  the boston globe has published a column calling for comey s resignation  not to be outdone  time has an editorial claiming that the scandal is really an attack on all women   james carville appeared on msnbc to remind everyone that he was still alive and insane  he accused comey of coordinating with house republicans and the kgb  and you thought the  vast right wing conspiracy  was a stretch   countless media stories charge comey with violating procedure  do you know what s a procedural violation  emailing classified information stored on your bathroom server   senator harry reid has sent comey a letter accusing him of violating the hatch act  the hatch act is a nice idea that has as much relevance in the age of obama as the tenth amendment  but the cable news spectrum quickly filled with media hacks glancing at the wikipedia article on the hatch act under the table while accusing the fbi director of one of the most awkward conspiracies against hillary ever   if james comey is really out to hurt hillary  he picked one hell of a strange way to do it   not too long ago democrats were breathing a sigh of relief when he gave hillary clinton a pass in a prominent public statement  if he really were out to elect trump by keeping the email scandal going  why did he trash the investigation  was he on the payroll of house republicans and the kgb back then and playing it coy or was it a sudden development where vladimir putin and paul ryan talked him into taking a look at anthony weiner s computer   either comey is the most cunning fbi director that ever lived or he s just awkwardly trying to navigate a political mess that has trapped him between a doj leadership whose political futures are tied to hillary s victory and his own bureau whose apolitical agents just want to be allowed to do their jobs   the only truly mysterious thing is why hillary and her associates decided to go to war with a respected federal agency  most americans like the fbi while hillary clinton enjoys a   unfavorable rating   and it s an interesting question   hillary s old strategy was to lie and deny that the fbi even had a criminal investigation underway  instead her associates insisted that it was a security review  the fbi corrected her and she shrugged it off  but the old breezy denial approach has given way to a savage assault on the fbi   pretending that nothing was wrong was a bad strategy  but it was a better one that picking a fight with the fbi while lunatic clinton associates try to claim that the fbi is really the kgb   there are two possible explanations   hillary clinton might be arrogant enough to lash out at the fbi now that she believes that victory is near  the same kind of hubris that led her to plan her victory fireworks display could lead her to declare a war on the fbi for irritating her during the final miles of her campaign   but the other explanation is that her people panicked   going to war with the fbi is not the behavior of a smart and focused presidential campaign  it s an act of desperation  when a presidential candidate decides that her only option is to try and destroy the credibility of the fbi  that s not hubris  it s fear of what the fbi might be about to reveal about her   during the original fbi investigation  hillary clinton was confident that she could ride it out  and she had good reason for believing that  but that hillary clinton is gone  in her place is a paranoid wreck  within a short space of time the  positive  clinton campaign promising to unite the country has been replaced by a desperate and flailing operation that has focused all its energy on fighting the fbi   there s only one reason for such bizarre behavior   the clinton campaign has decided that an fbi investigation of the latest batch of emails poses a threat to its survival  and so it s gone all in on fighting the fbi  it s an unprecedented step born of fear  it s hard to know whether that fear is justified  but the existence of that fear already tells us a whole lot   clinton loyalists rigged the old investigation  they knew the outcome ahead of time as well as they knew the debate questions  now suddenly they are no longer in control  and they are afraid   you can smell the fear   the fbi has wiretaps from the investigation of the clinton foundation  it s finding new emails all the time  and clintonworld panicked  the spinmeisters of clintonworld have claimed that the email scandal is just so much smoke without fire  all that s here is the appearance of impropriety without any of the substance  but this isn t how you react to smoke  it s how you respond to a fire   the misguided assault on the fbi tells us that hillary clinton and her allies are afraid of a revelation bigger than the fundamental illegality of her email setup  the email setup was a preemptive cover up  the clinton campaign has panicked badly out of the belief  right or wrong  that whatever crime the illegal setup was meant to cover up is at risk of being exposed   the clintons have weathered countless scandals over the years  whatever they are protecting this time around is bigger than the usual corruption  bribery  sexual assaults and abuses of power that have followed them around throughout the years  this is bigger and more damaging than any of the allegations that have already come out  and they don t want fbi investigators anywhere near it   the campaign against comey is pure intimidation  it s also a warning  any senior fbi people who value their careers are being warned to stay away  the democrats are closing ranks around their nominee against the fbi  it s an ugly and unprecedented scene  it may also be their last stand   hillary clinton has awkwardly wound her way through numerous scandals in just this election cycle  but she s never shown fear or desperation before  now that has changed  whatever she is afraid of  it lies buried in her emails with huma abedin  and it can bring her down like nothing else has   \n"
     ]
    }
   ],
   "source": [
    "print(\"Preprocessed Text :\")\n",
    "print(txtpreprocess(text))"
   ]
  },
  {
   "cell_type": "code",
   "execution_count": 16,
   "id": "a4612659",
   "metadata": {},
   "outputs": [],
   "source": [
    "data['text'] = data['text'].apply(txtpreprocess)\n",
    "data['title'] = data['title'].apply(txtpreprocess)"
   ]
  },
  {
   "cell_type": "markdown",
   "id": "24fec01f",
   "metadata": {},
   "source": [
    "## Model Training"
   ]
  },
  {
   "cell_type": "markdown",
   "id": "b855229a",
   "metadata": {},
   "source": [
    "#### Data splitting"
   ]
  },
  {
   "cell_type": "code",
   "execution_count": 17,
   "id": "1bfad6a7",
   "metadata": {},
   "outputs": [],
   "source": [
    "#X = data['title'].values + ' ' + data['text'].values\n",
    "X = data['text'].values\n",
    "y = data['class'].values\n",
    "x_train, x_test, y_train, y_test = train_test_split(X, y, test_size=0.2)"
   ]
  },
  {
   "cell_type": "markdown",
   "id": "5bb48f82",
   "metadata": {},
   "source": [
    "### Text Vectorization "
   ]
  },
  {
   "cell_type": "markdown",
   "id": "2f1cfb7c",
   "metadata": {},
   "source": [
    "We'll use TfidfVectorizer to convert our datas of textual documents into a numeric matrix of TF-IDF vectors. It calculates the Term Frequency-Inverse Document Frequency (TF-IDF) values for each term in the documents.  \n",
    "I used also the CountVectorizer that simply counts the number of occurrences of each word (or token) in each document.  "
   ]
  },
  {
   "cell_type": "code",
   "execution_count": 72,
   "id": "112c3d4f",
   "metadata": {},
   "outputs": [],
   "source": [
    "'''\n",
    "from sklearn.feature_extraction.text import TfidfVectorizer\n",
    "vectorization = TfidfVectorizer()\n",
    "'''\n",
    "from sklearn.feature_extraction.text import CountVectorizer\n",
    "vectorization = CountVectorizer()\n",
    "#'''\n",
    "xv_train = vectorization.fit_transform(x_train)\n",
    "xv_test = vectorization.transform(x_test)"
   ]
  },
  {
   "cell_type": "markdown",
   "id": "e52e31fd",
   "metadata": {},
   "source": [
    "### Algorithms choice"
   ]
  },
  {
   "cell_type": "markdown",
   "id": "9b2c638e",
   "metadata": {},
   "source": [
    "We have here a classification problem : the news are either REAL or FAKE.  \n",
    "There are a lot of algorithms that can used, so i tried to look for the most used. After some research, i found Naive Bayes, Logistic Regression and Random Forests."
   ]
  },
  {
   "cell_type": "markdown",
   "id": "7bf74189",
   "metadata": {},
   "source": [
    "##### Logistic Regression "
   ]
  },
  {
   "cell_type": "code",
   "execution_count": 73,
   "id": "3c3cdf82",
   "metadata": {},
   "outputs": [
    {
     "data": {
      "text/html": [
       "<style>#sk-container-id-7 {color: black;background-color: white;}#sk-container-id-7 pre{padding: 0;}#sk-container-id-7 div.sk-toggleable {background-color: white;}#sk-container-id-7 label.sk-toggleable__label {cursor: pointer;display: block;width: 100%;margin-bottom: 0;padding: 0.3em;box-sizing: border-box;text-align: center;}#sk-container-id-7 label.sk-toggleable__label-arrow:before {content: \"▸\";float: left;margin-right: 0.25em;color: #696969;}#sk-container-id-7 label.sk-toggleable__label-arrow:hover:before {color: black;}#sk-container-id-7 div.sk-estimator:hover label.sk-toggleable__label-arrow:before {color: black;}#sk-container-id-7 div.sk-toggleable__content {max-height: 0;max-width: 0;overflow: hidden;text-align: left;background-color: #f0f8ff;}#sk-container-id-7 div.sk-toggleable__content pre {margin: 0.2em;color: black;border-radius: 0.25em;background-color: #f0f8ff;}#sk-container-id-7 input.sk-toggleable__control:checked~div.sk-toggleable__content {max-height: 200px;max-width: 100%;overflow: auto;}#sk-container-id-7 input.sk-toggleable__control:checked~label.sk-toggleable__label-arrow:before {content: \"▾\";}#sk-container-id-7 div.sk-estimator input.sk-toggleable__control:checked~label.sk-toggleable__label {background-color: #d4ebff;}#sk-container-id-7 div.sk-label input.sk-toggleable__control:checked~label.sk-toggleable__label {background-color: #d4ebff;}#sk-container-id-7 input.sk-hidden--visually {border: 0;clip: rect(1px 1px 1px 1px);clip: rect(1px, 1px, 1px, 1px);height: 1px;margin: -1px;overflow: hidden;padding: 0;position: absolute;width: 1px;}#sk-container-id-7 div.sk-estimator {font-family: monospace;background-color: #f0f8ff;border: 1px dotted black;border-radius: 0.25em;box-sizing: border-box;margin-bottom: 0.5em;}#sk-container-id-7 div.sk-estimator:hover {background-color: #d4ebff;}#sk-container-id-7 div.sk-parallel-item::after {content: \"\";width: 100%;border-bottom: 1px solid gray;flex-grow: 1;}#sk-container-id-7 div.sk-label:hover label.sk-toggleable__label {background-color: #d4ebff;}#sk-container-id-7 div.sk-serial::before {content: \"\";position: absolute;border-left: 1px solid gray;box-sizing: border-box;top: 0;bottom: 0;left: 50%;z-index: 0;}#sk-container-id-7 div.sk-serial {display: flex;flex-direction: column;align-items: center;background-color: white;padding-right: 0.2em;padding-left: 0.2em;position: relative;}#sk-container-id-7 div.sk-item {position: relative;z-index: 1;}#sk-container-id-7 div.sk-parallel {display: flex;align-items: stretch;justify-content: center;background-color: white;position: relative;}#sk-container-id-7 div.sk-item::before, #sk-container-id-7 div.sk-parallel-item::before {content: \"\";position: absolute;border-left: 1px solid gray;box-sizing: border-box;top: 0;bottom: 0;left: 50%;z-index: -1;}#sk-container-id-7 div.sk-parallel-item {display: flex;flex-direction: column;z-index: 1;position: relative;background-color: white;}#sk-container-id-7 div.sk-parallel-item:first-child::after {align-self: flex-end;width: 50%;}#sk-container-id-7 div.sk-parallel-item:last-child::after {align-self: flex-start;width: 50%;}#sk-container-id-7 div.sk-parallel-item:only-child::after {width: 0;}#sk-container-id-7 div.sk-dashed-wrapped {border: 1px dashed gray;margin: 0 0.4em 0.5em 0.4em;box-sizing: border-box;padding-bottom: 0.4em;background-color: white;}#sk-container-id-7 div.sk-label label {font-family: monospace;font-weight: bold;display: inline-block;line-height: 1.2em;}#sk-container-id-7 div.sk-label-container {text-align: center;}#sk-container-id-7 div.sk-container {/* jupyter's `normalize.less` sets `[hidden] { display: none; }` but bootstrap.min.css set `[hidden] { display: none !important; }` so we also need the `!important` here to be able to override the default hidden behavior on the sphinx rendered scikit-learn.org. See: https://github.com/scikit-learn/scikit-learn/issues/21755 */display: inline-block !important;position: relative;}#sk-container-id-7 div.sk-text-repr-fallback {display: none;}</style><div id=\"sk-container-id-7\" class=\"sk-top-container\"><div class=\"sk-text-repr-fallback\"><pre>LogisticRegression(max_iter=500)</pre><b>In a Jupyter environment, please rerun this cell to show the HTML representation or trust the notebook. <br />On GitHub, the HTML representation is unable to render, please try loading this page with nbviewer.org.</b></div><div class=\"sk-container\" hidden><div class=\"sk-item\"><div class=\"sk-estimator sk-toggleable\"><input class=\"sk-toggleable__control sk-hidden--visually\" id=\"sk-estimator-id-7\" type=\"checkbox\" checked><label for=\"sk-estimator-id-7\" class=\"sk-toggleable__label sk-toggleable__label-arrow\">LogisticRegression</label><div class=\"sk-toggleable__content\"><pre>LogisticRegression(max_iter=500)</pre></div></div></div></div></div>"
      ],
      "text/plain": [
       "LogisticRegression(max_iter=500)"
      ]
     },
     "execution_count": 73,
     "metadata": {},
     "output_type": "execute_result"
    }
   ],
   "source": [
    "from sklearn.linear_model import LogisticRegression\n",
    "\n",
    "LogReg = LogisticRegression(max_iter=500)\n",
    "LogReg.fit(xv_train, y_train)"
   ]
  },
  {
   "cell_type": "code",
   "execution_count": 74,
   "id": "7a7527e6",
   "metadata": {},
   "outputs": [
    {
     "data": {
      "text/plain": [
       "0.9329123914759274"
      ]
     },
     "execution_count": 74,
     "metadata": {},
     "output_type": "execute_result"
    }
   ],
   "source": [
    "pred_LogReg = LogReg.predict(xv_test)\n",
    "LogReg.score(xv_test, y_test)"
   ]
  },
  {
   "cell_type": "code",
   "execution_count": 75,
   "id": "f4085e7e",
   "metadata": {},
   "outputs": [
    {
     "name": "stdout",
     "output_type": "stream",
     "text": [
      "              precision    recall  f1-score   support\n",
      "\n",
      "           0       0.93      0.94      0.93       638\n",
      "           1       0.94      0.92      0.93       629\n",
      "\n",
      "    accuracy                           0.93      1267\n",
      "   macro avg       0.93      0.93      0.93      1267\n",
      "weighted avg       0.93      0.93      0.93      1267\n",
      "\n"
     ]
    }
   ],
   "source": [
    "print(classification_report(y_test, pred_LogReg))"
   ]
  },
  {
   "cell_type": "markdown",
   "id": "df440a0e",
   "metadata": {},
   "source": [
    "#### Random Forest"
   ]
  },
  {
   "cell_type": "code",
   "execution_count": 76,
   "id": "fe18bf80",
   "metadata": {},
   "outputs": [
    {
     "data": {
      "text/html": [
       "<style>#sk-container-id-8 {color: black;background-color: white;}#sk-container-id-8 pre{padding: 0;}#sk-container-id-8 div.sk-toggleable {background-color: white;}#sk-container-id-8 label.sk-toggleable__label {cursor: pointer;display: block;width: 100%;margin-bottom: 0;padding: 0.3em;box-sizing: border-box;text-align: center;}#sk-container-id-8 label.sk-toggleable__label-arrow:before {content: \"▸\";float: left;margin-right: 0.25em;color: #696969;}#sk-container-id-8 label.sk-toggleable__label-arrow:hover:before {color: black;}#sk-container-id-8 div.sk-estimator:hover label.sk-toggleable__label-arrow:before {color: black;}#sk-container-id-8 div.sk-toggleable__content {max-height: 0;max-width: 0;overflow: hidden;text-align: left;background-color: #f0f8ff;}#sk-container-id-8 div.sk-toggleable__content pre {margin: 0.2em;color: black;border-radius: 0.25em;background-color: #f0f8ff;}#sk-container-id-8 input.sk-toggleable__control:checked~div.sk-toggleable__content {max-height: 200px;max-width: 100%;overflow: auto;}#sk-container-id-8 input.sk-toggleable__control:checked~label.sk-toggleable__label-arrow:before {content: \"▾\";}#sk-container-id-8 div.sk-estimator input.sk-toggleable__control:checked~label.sk-toggleable__label {background-color: #d4ebff;}#sk-container-id-8 div.sk-label input.sk-toggleable__control:checked~label.sk-toggleable__label {background-color: #d4ebff;}#sk-container-id-8 input.sk-hidden--visually {border: 0;clip: rect(1px 1px 1px 1px);clip: rect(1px, 1px, 1px, 1px);height: 1px;margin: -1px;overflow: hidden;padding: 0;position: absolute;width: 1px;}#sk-container-id-8 div.sk-estimator {font-family: monospace;background-color: #f0f8ff;border: 1px dotted black;border-radius: 0.25em;box-sizing: border-box;margin-bottom: 0.5em;}#sk-container-id-8 div.sk-estimator:hover {background-color: #d4ebff;}#sk-container-id-8 div.sk-parallel-item::after {content: \"\";width: 100%;border-bottom: 1px solid gray;flex-grow: 1;}#sk-container-id-8 div.sk-label:hover label.sk-toggleable__label {background-color: #d4ebff;}#sk-container-id-8 div.sk-serial::before {content: \"\";position: absolute;border-left: 1px solid gray;box-sizing: border-box;top: 0;bottom: 0;left: 50%;z-index: 0;}#sk-container-id-8 div.sk-serial {display: flex;flex-direction: column;align-items: center;background-color: white;padding-right: 0.2em;padding-left: 0.2em;position: relative;}#sk-container-id-8 div.sk-item {position: relative;z-index: 1;}#sk-container-id-8 div.sk-parallel {display: flex;align-items: stretch;justify-content: center;background-color: white;position: relative;}#sk-container-id-8 div.sk-item::before, #sk-container-id-8 div.sk-parallel-item::before {content: \"\";position: absolute;border-left: 1px solid gray;box-sizing: border-box;top: 0;bottom: 0;left: 50%;z-index: -1;}#sk-container-id-8 div.sk-parallel-item {display: flex;flex-direction: column;z-index: 1;position: relative;background-color: white;}#sk-container-id-8 div.sk-parallel-item:first-child::after {align-self: flex-end;width: 50%;}#sk-container-id-8 div.sk-parallel-item:last-child::after {align-self: flex-start;width: 50%;}#sk-container-id-8 div.sk-parallel-item:only-child::after {width: 0;}#sk-container-id-8 div.sk-dashed-wrapped {border: 1px dashed gray;margin: 0 0.4em 0.5em 0.4em;box-sizing: border-box;padding-bottom: 0.4em;background-color: white;}#sk-container-id-8 div.sk-label label {font-family: monospace;font-weight: bold;display: inline-block;line-height: 1.2em;}#sk-container-id-8 div.sk-label-container {text-align: center;}#sk-container-id-8 div.sk-container {/* jupyter's `normalize.less` sets `[hidden] { display: none; }` but bootstrap.min.css set `[hidden] { display: none !important; }` so we also need the `!important` here to be able to override the default hidden behavior on the sphinx rendered scikit-learn.org. See: https://github.com/scikit-learn/scikit-learn/issues/21755 */display: inline-block !important;position: relative;}#sk-container-id-8 div.sk-text-repr-fallback {display: none;}</style><div id=\"sk-container-id-8\" class=\"sk-top-container\"><div class=\"sk-text-repr-fallback\"><pre>RandomForestClassifier()</pre><b>In a Jupyter environment, please rerun this cell to show the HTML representation or trust the notebook. <br />On GitHub, the HTML representation is unable to render, please try loading this page with nbviewer.org.</b></div><div class=\"sk-container\" hidden><div class=\"sk-item\"><div class=\"sk-estimator sk-toggleable\"><input class=\"sk-toggleable__control sk-hidden--visually\" id=\"sk-estimator-id-8\" type=\"checkbox\" checked><label for=\"sk-estimator-id-8\" class=\"sk-toggleable__label sk-toggleable__label-arrow\">RandomForestClassifier</label><div class=\"sk-toggleable__content\"><pre>RandomForestClassifier()</pre></div></div></div></div></div>"
      ],
      "text/plain": [
       "RandomForestClassifier()"
      ]
     },
     "execution_count": 76,
     "metadata": {},
     "output_type": "execute_result"
    }
   ],
   "source": [
    "from sklearn.ensemble import RandomForestClassifier\n",
    "\n",
    "RandomForestModel = RandomForestClassifier()\n",
    "RandomForestModel.fit(xv_train, y_train)"
   ]
  },
  {
   "cell_type": "code",
   "execution_count": 77,
   "id": "3472fc3f",
   "metadata": {},
   "outputs": [
    {
     "data": {
      "text/plain": [
       "0.8958168902920284"
      ]
     },
     "execution_count": 77,
     "metadata": {},
     "output_type": "execute_result"
    }
   ],
   "source": [
    "pred_RandomForest = RandomForestModel.predict(xv_test)\n",
    "RandomForestModel.score(xv_test, y_test)"
   ]
  },
  {
   "cell_type": "code",
   "execution_count": 78,
   "id": "fdcf42e0",
   "metadata": {},
   "outputs": [
    {
     "name": "stdout",
     "output_type": "stream",
     "text": [
      "              precision    recall  f1-score   support\n",
      "\n",
      "           0       0.89      0.90      0.90       638\n",
      "           1       0.90      0.89      0.89       629\n",
      "\n",
      "    accuracy                           0.90      1267\n",
      "   macro avg       0.90      0.90      0.90      1267\n",
      "weighted avg       0.90      0.90      0.90      1267\n",
      "\n"
     ]
    }
   ],
   "source": [
    "print(classification_report(y_test, pred_RandomForest))"
   ]
  },
  {
   "cell_type": "markdown",
   "id": "5237b18b",
   "metadata": {},
   "source": [
    "#### SVM"
   ]
  },
  {
   "cell_type": "code",
   "execution_count": 79,
   "id": "22a04c3a",
   "metadata": {},
   "outputs": [
    {
     "data": {
      "text/html": [
       "<style>#sk-container-id-9 {color: black;background-color: white;}#sk-container-id-9 pre{padding: 0;}#sk-container-id-9 div.sk-toggleable {background-color: white;}#sk-container-id-9 label.sk-toggleable__label {cursor: pointer;display: block;width: 100%;margin-bottom: 0;padding: 0.3em;box-sizing: border-box;text-align: center;}#sk-container-id-9 label.sk-toggleable__label-arrow:before {content: \"▸\";float: left;margin-right: 0.25em;color: #696969;}#sk-container-id-9 label.sk-toggleable__label-arrow:hover:before {color: black;}#sk-container-id-9 div.sk-estimator:hover label.sk-toggleable__label-arrow:before {color: black;}#sk-container-id-9 div.sk-toggleable__content {max-height: 0;max-width: 0;overflow: hidden;text-align: left;background-color: #f0f8ff;}#sk-container-id-9 div.sk-toggleable__content pre {margin: 0.2em;color: black;border-radius: 0.25em;background-color: #f0f8ff;}#sk-container-id-9 input.sk-toggleable__control:checked~div.sk-toggleable__content {max-height: 200px;max-width: 100%;overflow: auto;}#sk-container-id-9 input.sk-toggleable__control:checked~label.sk-toggleable__label-arrow:before {content: \"▾\";}#sk-container-id-9 div.sk-estimator input.sk-toggleable__control:checked~label.sk-toggleable__label {background-color: #d4ebff;}#sk-container-id-9 div.sk-label input.sk-toggleable__control:checked~label.sk-toggleable__label {background-color: #d4ebff;}#sk-container-id-9 input.sk-hidden--visually {border: 0;clip: rect(1px 1px 1px 1px);clip: rect(1px, 1px, 1px, 1px);height: 1px;margin: -1px;overflow: hidden;padding: 0;position: absolute;width: 1px;}#sk-container-id-9 div.sk-estimator {font-family: monospace;background-color: #f0f8ff;border: 1px dotted black;border-radius: 0.25em;box-sizing: border-box;margin-bottom: 0.5em;}#sk-container-id-9 div.sk-estimator:hover {background-color: #d4ebff;}#sk-container-id-9 div.sk-parallel-item::after {content: \"\";width: 100%;border-bottom: 1px solid gray;flex-grow: 1;}#sk-container-id-9 div.sk-label:hover label.sk-toggleable__label {background-color: #d4ebff;}#sk-container-id-9 div.sk-serial::before {content: \"\";position: absolute;border-left: 1px solid gray;box-sizing: border-box;top: 0;bottom: 0;left: 50%;z-index: 0;}#sk-container-id-9 div.sk-serial {display: flex;flex-direction: column;align-items: center;background-color: white;padding-right: 0.2em;padding-left: 0.2em;position: relative;}#sk-container-id-9 div.sk-item {position: relative;z-index: 1;}#sk-container-id-9 div.sk-parallel {display: flex;align-items: stretch;justify-content: center;background-color: white;position: relative;}#sk-container-id-9 div.sk-item::before, #sk-container-id-9 div.sk-parallel-item::before {content: \"\";position: absolute;border-left: 1px solid gray;box-sizing: border-box;top: 0;bottom: 0;left: 50%;z-index: -1;}#sk-container-id-9 div.sk-parallel-item {display: flex;flex-direction: column;z-index: 1;position: relative;background-color: white;}#sk-container-id-9 div.sk-parallel-item:first-child::after {align-self: flex-end;width: 50%;}#sk-container-id-9 div.sk-parallel-item:last-child::after {align-self: flex-start;width: 50%;}#sk-container-id-9 div.sk-parallel-item:only-child::after {width: 0;}#sk-container-id-9 div.sk-dashed-wrapped {border: 1px dashed gray;margin: 0 0.4em 0.5em 0.4em;box-sizing: border-box;padding-bottom: 0.4em;background-color: white;}#sk-container-id-9 div.sk-label label {font-family: monospace;font-weight: bold;display: inline-block;line-height: 1.2em;}#sk-container-id-9 div.sk-label-container {text-align: center;}#sk-container-id-9 div.sk-container {/* jupyter's `normalize.less` sets `[hidden] { display: none; }` but bootstrap.min.css set `[hidden] { display: none !important; }` so we also need the `!important` here to be able to override the default hidden behavior on the sphinx rendered scikit-learn.org. See: https://github.com/scikit-learn/scikit-learn/issues/21755 */display: inline-block !important;position: relative;}#sk-container-id-9 div.sk-text-repr-fallback {display: none;}</style><div id=\"sk-container-id-9\" class=\"sk-top-container\"><div class=\"sk-text-repr-fallback\"><pre>SVC()</pre><b>In a Jupyter environment, please rerun this cell to show the HTML representation or trust the notebook. <br />On GitHub, the HTML representation is unable to render, please try loading this page with nbviewer.org.</b></div><div class=\"sk-container\" hidden><div class=\"sk-item\"><div class=\"sk-estimator sk-toggleable\"><input class=\"sk-toggleable__control sk-hidden--visually\" id=\"sk-estimator-id-9\" type=\"checkbox\" checked><label for=\"sk-estimator-id-9\" class=\"sk-toggleable__label sk-toggleable__label-arrow\">SVC</label><div class=\"sk-toggleable__content\"><pre>SVC()</pre></div></div></div></div></div>"
      ],
      "text/plain": [
       "SVC()"
      ]
     },
     "execution_count": 79,
     "metadata": {},
     "output_type": "execute_result"
    }
   ],
   "source": [
    "from sklearn import svm\n",
    "\n",
    "svmModel = svm.SVC()\n",
    "svmModel.fit(xv_train, y_train)"
   ]
  },
  {
   "cell_type": "code",
   "execution_count": 80,
   "id": "43e7c0eb",
   "metadata": {},
   "outputs": [
    {
     "data": {
      "text/plain": [
       "0.8531965272296764"
      ]
     },
     "execution_count": 80,
     "metadata": {},
     "output_type": "execute_result"
    }
   ],
   "source": [
    "pred_svm = svmModel.predict(xv_test)\n",
    "svmModel.score(xv_test, y_test)"
   ]
  },
  {
   "cell_type": "code",
   "execution_count": 81,
   "id": "d0d9b127",
   "metadata": {},
   "outputs": [
    {
     "name": "stdout",
     "output_type": "stream",
     "text": [
      "              precision    recall  f1-score   support\n",
      "\n",
      "           0       0.81      0.93      0.86       638\n",
      "           1       0.92      0.77      0.84       629\n",
      "\n",
      "    accuracy                           0.85      1267\n",
      "   macro avg       0.86      0.85      0.85      1267\n",
      "weighted avg       0.86      0.85      0.85      1267\n",
      "\n"
     ]
    }
   ],
   "source": [
    "print(classification_report(y_test, pred_svm))"
   ]
  },
  {
   "cell_type": "markdown",
   "id": "2302dfd1",
   "metadata": {},
   "source": [
    "## Exportation"
   ]
  },
  {
   "cell_type": "code",
   "execution_count": 82,
   "id": "7e988d38",
   "metadata": {},
   "outputs": [],
   "source": [
    "import pickle\n",
    "\n",
    "'''\n",
    "\n",
    "pickle.dump(LogReg, open('LogisticRegression_TfidfVectorizer.pkl','wb'))\n",
    "pickle.dump(RandomForestModel, open('RandomForest_TfidfVectorizer.pkl','wb'))\n",
    "pickle.dump(svmModel, open('SVM_TfidfVectorizer.pkl','wb'))\n",
    "\n",
    "'''\n",
    "\n",
    "pickle.dump(LogReg, open('LogisticRegression_CountVectorizer.pkl','wb'))\n",
    "pickle.dump(RandomForestModel, open('RandomForest_CountVectorizer.pkl','wb'))\n",
    "pickle.dump(svmModel, open('SVM_CountVectorizer.pkl','wb'))\n",
    "\n",
    "#'''"
   ]
  },
  {
   "cell_type": "markdown",
   "id": "952fa3a2",
   "metadata": {},
   "source": [
    "## Conclusion "
   ]
  },
  {
   "cell_type": "markdown",
   "id": "1efbbc7b",
   "metadata": {},
   "source": [
    "After several training sessions, I have deduced the following conclusions:  \n",
    "Training is more effective when increasing the amount of data, but this also means reducing the amount of test data, which affects the reliability of the results.  \n",
    "Regarding the two vectorizers, CountVectorizer improves the performance of Logistic Regression models, while TfidfVectorizer enhances the performance of Random Forest and SVM.  \n",
    "Adding titles column to the data doesn't necessarily improve the performance of the models. In the case of Random Forest, there is actually a decrease in the score. As for the other models, the increase in performance is relatively small."
   ]
  },
  {
   "cell_type": "markdown",
   "id": "f1acf464",
   "metadata": {},
   "source": [
    "## Adding new datas to the dataset"
   ]
  },
  {
   "cell_type": "markdown",
   "id": "eb6a9049",
   "metadata": {},
   "source": [
    "We'll add new datas to the dataset to improve our models  \n",
    "The file Face.csv contains fake news and True.csv real news."
   ]
  },
  {
   "cell_type": "code",
   "execution_count": 83,
   "id": "b9d28988",
   "metadata": {},
   "outputs": [],
   "source": [
    "Fake = pd.read_csv('Fake.csv')\n",
    "Real = pd.read_csv('True.csv')"
   ]
  },
  {
   "cell_type": "code",
   "execution_count": 84,
   "id": "a7c0e1e0",
   "metadata": {},
   "outputs": [
    {
     "data": {
      "text/html": [
       "<div>\n",
       "<style scoped>\n",
       "    .dataframe tbody tr th:only-of-type {\n",
       "        vertical-align: middle;\n",
       "    }\n",
       "\n",
       "    .dataframe tbody tr th {\n",
       "        vertical-align: top;\n",
       "    }\n",
       "\n",
       "    .dataframe thead th {\n",
       "        text-align: right;\n",
       "    }\n",
       "</style>\n",
       "<table border=\"1\" class=\"dataframe\">\n",
       "  <thead>\n",
       "    <tr style=\"text-align: right;\">\n",
       "      <th></th>\n",
       "      <th>title</th>\n",
       "      <th>text</th>\n",
       "      <th>subject</th>\n",
       "      <th>date</th>\n",
       "    </tr>\n",
       "  </thead>\n",
       "  <tbody>\n",
       "    <tr>\n",
       "      <th>0</th>\n",
       "      <td>Donald Trump Sends Out Embarrassing New Year’...</td>\n",
       "      <td>Donald Trump just couldn t wish all Americans ...</td>\n",
       "      <td>News</td>\n",
       "      <td>December 31, 2017</td>\n",
       "    </tr>\n",
       "    <tr>\n",
       "      <th>1</th>\n",
       "      <td>Drunk Bragging Trump Staffer Started Russian ...</td>\n",
       "      <td>House Intelligence Committee Chairman Devin Nu...</td>\n",
       "      <td>News</td>\n",
       "      <td>December 31, 2017</td>\n",
       "    </tr>\n",
       "    <tr>\n",
       "      <th>2</th>\n",
       "      <td>Sheriff David Clarke Becomes An Internet Joke...</td>\n",
       "      <td>On Friday, it was revealed that former Milwauk...</td>\n",
       "      <td>News</td>\n",
       "      <td>December 30, 2017</td>\n",
       "    </tr>\n",
       "  </tbody>\n",
       "</table>\n",
       "</div>"
      ],
      "text/plain": [
       "                                               title  \\\n",
       "0   Donald Trump Sends Out Embarrassing New Year’...   \n",
       "1   Drunk Bragging Trump Staffer Started Russian ...   \n",
       "2   Sheriff David Clarke Becomes An Internet Joke...   \n",
       "\n",
       "                                                text subject  \\\n",
       "0  Donald Trump just couldn t wish all Americans ...    News   \n",
       "1  House Intelligence Committee Chairman Devin Nu...    News   \n",
       "2  On Friday, it was revealed that former Milwauk...    News   \n",
       "\n",
       "                date  \n",
       "0  December 31, 2017  \n",
       "1  December 31, 2017  \n",
       "2  December 30, 2017  "
      ]
     },
     "execution_count": 84,
     "metadata": {},
     "output_type": "execute_result"
    }
   ],
   "source": [
    "Fake.head(3)"
   ]
  },
  {
   "cell_type": "code",
   "execution_count": 85,
   "id": "9c19e811",
   "metadata": {},
   "outputs": [
    {
     "data": {
      "text/plain": [
       "(23481, 4)"
      ]
     },
     "execution_count": 85,
     "metadata": {},
     "output_type": "execute_result"
    }
   ],
   "source": [
    "Fake.shape"
   ]
  },
  {
   "cell_type": "code",
   "execution_count": 86,
   "id": "d5f80f69",
   "metadata": {},
   "outputs": [
    {
     "data": {
      "text/html": [
       "<div>\n",
       "<style scoped>\n",
       "    .dataframe tbody tr th:only-of-type {\n",
       "        vertical-align: middle;\n",
       "    }\n",
       "\n",
       "    .dataframe tbody tr th {\n",
       "        vertical-align: top;\n",
       "    }\n",
       "\n",
       "    .dataframe thead th {\n",
       "        text-align: right;\n",
       "    }\n",
       "</style>\n",
       "<table border=\"1\" class=\"dataframe\">\n",
       "  <thead>\n",
       "    <tr style=\"text-align: right;\">\n",
       "      <th></th>\n",
       "      <th>title</th>\n",
       "      <th>text</th>\n",
       "      <th>subject</th>\n",
       "      <th>date</th>\n",
       "    </tr>\n",
       "  </thead>\n",
       "  <tbody>\n",
       "    <tr>\n",
       "      <th>0</th>\n",
       "      <td>As U.S. budget fight looms, Republicans flip t...</td>\n",
       "      <td>WASHINGTON (Reuters) - The head of a conservat...</td>\n",
       "      <td>politicsNews</td>\n",
       "      <td>December 31, 2017</td>\n",
       "    </tr>\n",
       "    <tr>\n",
       "      <th>1</th>\n",
       "      <td>U.S. military to accept transgender recruits o...</td>\n",
       "      <td>WASHINGTON (Reuters) - Transgender people will...</td>\n",
       "      <td>politicsNews</td>\n",
       "      <td>December 29, 2017</td>\n",
       "    </tr>\n",
       "    <tr>\n",
       "      <th>2</th>\n",
       "      <td>Senior U.S. Republican senator: 'Let Mr. Muell...</td>\n",
       "      <td>WASHINGTON (Reuters) - The special counsel inv...</td>\n",
       "      <td>politicsNews</td>\n",
       "      <td>December 31, 2017</td>\n",
       "    </tr>\n",
       "  </tbody>\n",
       "</table>\n",
       "</div>"
      ],
      "text/plain": [
       "                                               title  \\\n",
       "0  As U.S. budget fight looms, Republicans flip t...   \n",
       "1  U.S. military to accept transgender recruits o...   \n",
       "2  Senior U.S. Republican senator: 'Let Mr. Muell...   \n",
       "\n",
       "                                                text       subject  \\\n",
       "0  WASHINGTON (Reuters) - The head of a conservat...  politicsNews   \n",
       "1  WASHINGTON (Reuters) - Transgender people will...  politicsNews   \n",
       "2  WASHINGTON (Reuters) - The special counsel inv...  politicsNews   \n",
       "\n",
       "                 date  \n",
       "0  December 31, 2017   \n",
       "1  December 29, 2017   \n",
       "2  December 31, 2017   "
      ]
     },
     "execution_count": 86,
     "metadata": {},
     "output_type": "execute_result"
    }
   ],
   "source": [
    "Real.head(3)"
   ]
  },
  {
   "cell_type": "code",
   "execution_count": 87,
   "id": "5dae9dd6",
   "metadata": {},
   "outputs": [
    {
     "data": {
      "text/plain": [
       "(21417, 4)"
      ]
     },
     "execution_count": 87,
     "metadata": {},
     "output_type": "execute_result"
    }
   ],
   "source": [
    "Real.shape"
   ]
  },
  {
   "cell_type": "markdown",
   "id": "49e2cb41",
   "metadata": {},
   "source": [
    "We don't need columns subject and date  \n",
    "And we'll have to add class column"
   ]
  },
  {
   "cell_type": "code",
   "execution_count": 88,
   "id": "7a2d3d49",
   "metadata": {},
   "outputs": [],
   "source": [
    "Fake = Fake.drop(['subject', 'date'], axis=1)\n",
    "Real = Real.drop(['subject', 'date'], axis=1)"
   ]
  },
  {
   "cell_type": "code",
   "execution_count": 89,
   "id": "fa6a009d",
   "metadata": {},
   "outputs": [],
   "source": [
    "Fake['class'] = 0\n",
    "Real['class'] = 1"
   ]
  },
  {
   "cell_type": "markdown",
   "id": "81e6c023",
   "metadata": {},
   "source": [
    "Let's do the preprocessing"
   ]
  },
  {
   "cell_type": "code",
   "execution_count": 90,
   "id": "17b6b740",
   "metadata": {},
   "outputs": [],
   "source": [
    "Fake['text'] = Fake['text'].apply(txtpreprocess)\n",
    "Fake['title'] = Fake['title'].apply(txtpreprocess)\n",
    "\n",
    "Real['text'] = Real['text'].apply(txtpreprocess)\n",
    "Real['title'] = Real['title'].apply(txtpreprocess)"
   ]
  },
  {
   "cell_type": "code",
   "execution_count": 91,
   "id": "1f8c40f9",
   "metadata": {},
   "outputs": [
    {
     "data": {
      "text/html": [
       "<div>\n",
       "<style scoped>\n",
       "    .dataframe tbody tr th:only-of-type {\n",
       "        vertical-align: middle;\n",
       "    }\n",
       "\n",
       "    .dataframe tbody tr th {\n",
       "        vertical-align: top;\n",
       "    }\n",
       "\n",
       "    .dataframe thead th {\n",
       "        text-align: right;\n",
       "    }\n",
       "</style>\n",
       "<table border=\"1\" class=\"dataframe\">\n",
       "  <thead>\n",
       "    <tr style=\"text-align: right;\">\n",
       "      <th></th>\n",
       "      <th>title</th>\n",
       "      <th>text</th>\n",
       "      <th>class</th>\n",
       "    </tr>\n",
       "  </thead>\n",
       "  <tbody>\n",
       "    <tr>\n",
       "      <th>0</th>\n",
       "      <td>donald trump sends out embarrassing new year ...</td>\n",
       "      <td>donald trump just couldn t wish all americans ...</td>\n",
       "      <td>0</td>\n",
       "    </tr>\n",
       "    <tr>\n",
       "      <th>1</th>\n",
       "      <td>drunk bragging trump staffer started russian ...</td>\n",
       "      <td>house intelligence committee chairman devin nu...</td>\n",
       "      <td>0</td>\n",
       "    </tr>\n",
       "    <tr>\n",
       "      <th>2</th>\n",
       "      <td>sheriff david clarke becomes an internet joke...</td>\n",
       "      <td>on friday  it was revealed that former milwauk...</td>\n",
       "      <td>0</td>\n",
       "    </tr>\n",
       "  </tbody>\n",
       "</table>\n",
       "</div>"
      ],
      "text/plain": [
       "                                               title  \\\n",
       "0   donald trump sends out embarrassing new year ...   \n",
       "1   drunk bragging trump staffer started russian ...   \n",
       "2   sheriff david clarke becomes an internet joke...   \n",
       "\n",
       "                                                text  class  \n",
       "0  donald trump just couldn t wish all americans ...      0  \n",
       "1  house intelligence committee chairman devin nu...      0  \n",
       "2  on friday  it was revealed that former milwauk...      0  "
      ]
     },
     "execution_count": 91,
     "metadata": {},
     "output_type": "execute_result"
    }
   ],
   "source": [
    "Fake.head(3)"
   ]
  },
  {
   "cell_type": "code",
   "execution_count": 92,
   "id": "a15341d0",
   "metadata": {},
   "outputs": [
    {
     "data": {
      "text/html": [
       "<div>\n",
       "<style scoped>\n",
       "    .dataframe tbody tr th:only-of-type {\n",
       "        vertical-align: middle;\n",
       "    }\n",
       "\n",
       "    .dataframe tbody tr th {\n",
       "        vertical-align: top;\n",
       "    }\n",
       "\n",
       "    .dataframe thead th {\n",
       "        text-align: right;\n",
       "    }\n",
       "</style>\n",
       "<table border=\"1\" class=\"dataframe\">\n",
       "  <thead>\n",
       "    <tr style=\"text-align: right;\">\n",
       "      <th></th>\n",
       "      <th>title</th>\n",
       "      <th>text</th>\n",
       "      <th>class</th>\n",
       "    </tr>\n",
       "  </thead>\n",
       "  <tbody>\n",
       "    <tr>\n",
       "      <th>0</th>\n",
       "      <td>as u s  budget fight looms  republicans flip t...</td>\n",
       "      <td>washington  reuters    the head of a conservat...</td>\n",
       "      <td>1</td>\n",
       "    </tr>\n",
       "    <tr>\n",
       "      <th>1</th>\n",
       "      <td>u s  military to accept transgender recruits o...</td>\n",
       "      <td>washington  reuters    transgender people will...</td>\n",
       "      <td>1</td>\n",
       "    </tr>\n",
       "    <tr>\n",
       "      <th>2</th>\n",
       "      <td>senior u s  republican senator   let mr  muell...</td>\n",
       "      <td>washington  reuters    the special counsel inv...</td>\n",
       "      <td>1</td>\n",
       "    </tr>\n",
       "  </tbody>\n",
       "</table>\n",
       "</div>"
      ],
      "text/plain": [
       "                                               title  \\\n",
       "0  as u s  budget fight looms  republicans flip t...   \n",
       "1  u s  military to accept transgender recruits o...   \n",
       "2  senior u s  republican senator   let mr  muell...   \n",
       "\n",
       "                                                text  class  \n",
       "0  washington  reuters    the head of a conservat...      1  \n",
       "1  washington  reuters    transgender people will...      1  \n",
       "2  washington  reuters    the special counsel inv...      1  "
      ]
     },
     "execution_count": 92,
     "metadata": {},
     "output_type": "execute_result"
    }
   ],
   "source": [
    "Real.head(3)"
   ]
  },
  {
   "cell_type": "markdown",
   "id": "b1aaa1ee",
   "metadata": {},
   "source": [
    "Let's save some datas for testing"
   ]
  },
  {
   "cell_type": "code",
   "execution_count": 93,
   "id": "e1a0aa63",
   "metadata": {},
   "outputs": [],
   "source": [
    "data_for_test = pd.concat([Fake.tail(10),Real.tail(10)], ignore_index=True)\n",
    "data_for_test = data_for_test.reindex(np.random.permutation(data_for_test.index))\n",
    "data_for_test.reset_index(drop=True, inplace=True)"
   ]
  },
  {
   "cell_type": "code",
   "execution_count": 94,
   "id": "1c2d014e",
   "metadata": {},
   "outputs": [
    {
     "data": {
      "text/html": [
       "<div>\n",
       "<style scoped>\n",
       "    .dataframe tbody tr th:only-of-type {\n",
       "        vertical-align: middle;\n",
       "    }\n",
       "\n",
       "    .dataframe tbody tr th {\n",
       "        vertical-align: top;\n",
       "    }\n",
       "\n",
       "    .dataframe thead th {\n",
       "        text-align: right;\n",
       "    }\n",
       "</style>\n",
       "<table border=\"1\" class=\"dataframe\">\n",
       "  <thead>\n",
       "    <tr style=\"text-align: right;\">\n",
       "      <th></th>\n",
       "      <th>title</th>\n",
       "      <th>text</th>\n",
       "      <th>class</th>\n",
       "    </tr>\n",
       "  </thead>\n",
       "  <tbody>\n",
       "    <tr>\n",
       "      <th>0</th>\n",
       "      <td>minsk cultural hub becomes haven from authorities</td>\n",
       "      <td>minsk  reuters    in the shadow of disused sov...</td>\n",
       "      <td>1</td>\n",
       "    </tr>\n",
       "    <tr>\n",
       "      <th>1</th>\n",
       "      <td>u s   north korea clash at u n  forum over nuc...</td>\n",
       "      <td>geneva  reuters    north korea and the united ...</td>\n",
       "      <td>1</td>\n",
       "    </tr>\n",
       "    <tr>\n",
       "      <th>2</th>\n",
       "      <td>hashtag hell   the fake left</td>\n",
       "      <td>by dady chery and gilbert mercierall writers ...</td>\n",
       "      <td>0</td>\n",
       "    </tr>\n",
       "    <tr>\n",
       "      <th>3</th>\n",
       "      <td>hillary clinton   israel first   and no peace ...</td>\n",
       "      <td>robert fantina counterpunchalthough the united...</td>\n",
       "      <td>0</td>\n",
       "    </tr>\n",
       "    <tr>\n",
       "      <th>4</th>\n",
       "      <td>fully committed  nato backs new u s  approach...</td>\n",
       "      <td>brussels  reuters    nato allies on tuesday we...</td>\n",
       "      <td>1</td>\n",
       "    </tr>\n",
       "  </tbody>\n",
       "</table>\n",
       "</div>"
      ],
      "text/plain": [
       "                                               title  \\\n",
       "0  minsk cultural hub becomes haven from authorities   \n",
       "1  u s   north korea clash at u n  forum over nuc...   \n",
       "2                       hashtag hell   the fake left   \n",
       "3  hillary clinton   israel first   and no peace ...   \n",
       "4   fully committed  nato backs new u s  approach...   \n",
       "\n",
       "                                                text  class  \n",
       "0  minsk  reuters    in the shadow of disused sov...      1  \n",
       "1  geneva  reuters    north korea and the united ...      1  \n",
       "2   by dady chery and gilbert mercierall writers ...      0  \n",
       "3  robert fantina counterpunchalthough the united...      0  \n",
       "4  brussels  reuters    nato allies on tuesday we...      1  "
      ]
     },
     "execution_count": 94,
     "metadata": {},
     "output_type": "execute_result"
    }
   ],
   "source": [
    "data_for_test.head(5)"
   ]
  },
  {
   "cell_type": "code",
   "execution_count": 95,
   "id": "3bd55ce4",
   "metadata": {},
   "outputs": [],
   "source": [
    "for i in range(0,10,1):\n",
    "    Fake.drop([23480 - i], axis = 0, inplace=True)\n",
    "    Real.drop([21416 - i], axis = 0, inplace=True)"
   ]
  },
  {
   "cell_type": "code",
   "execution_count": 96,
   "id": "d277da15",
   "metadata": {},
   "outputs": [
    {
     "data": {
      "text/plain": [
       "((21407, 3), (23471, 3))"
      ]
     },
     "execution_count": 96,
     "metadata": {},
     "output_type": "execute_result"
    }
   ],
   "source": [
    "Real.shape, Fake.shape"
   ]
  },
  {
   "cell_type": "markdown",
   "id": "7fc5c63d",
   "metadata": {},
   "source": [
    "### Merging Fake and Real with data to create a new dataset"
   ]
  },
  {
   "cell_type": "code",
   "execution_count": 97,
   "id": "7f0aac9b",
   "metadata": {},
   "outputs": [],
   "source": [
    "new_data = pd.concat([data,Fake,Real], ignore_index=True)\n",
    "new_data = new_data.reindex(np.random.permutation(new_data.index))\n",
    "new_data.reset_index(drop=True, inplace=True)"
   ]
  },
  {
   "cell_type": "code",
   "execution_count": 98,
   "id": "983a1e8e",
   "metadata": {},
   "outputs": [
    {
     "data": {
      "text/html": [
       "<div>\n",
       "<style scoped>\n",
       "    .dataframe tbody tr th:only-of-type {\n",
       "        vertical-align: middle;\n",
       "    }\n",
       "\n",
       "    .dataframe tbody tr th {\n",
       "        vertical-align: top;\n",
       "    }\n",
       "\n",
       "    .dataframe thead th {\n",
       "        text-align: right;\n",
       "    }\n",
       "</style>\n",
       "<table border=\"1\" class=\"dataframe\">\n",
       "  <thead>\n",
       "    <tr style=\"text-align: right;\">\n",
       "      <th></th>\n",
       "      <th>title</th>\n",
       "      <th>text</th>\n",
       "      <th>class</th>\n",
       "    </tr>\n",
       "  </thead>\n",
       "  <tbody>\n",
       "    <tr>\n",
       "      <th>0</th>\n",
       "      <td>life  if you love enamel pins  you ll love thi...</td>\n",
       "      <td>email if you can t get enough enamel pins  the...</td>\n",
       "      <td>0</td>\n",
       "    </tr>\n",
       "    <tr>\n",
       "      <th>1</th>\n",
       "      <td>breaking  judge ambushed outside courthouse sh...</td>\n",
       "      <td>jefferson county judge joseph j  bruzzese jr  ...</td>\n",
       "      <td>0</td>\n",
       "    </tr>\n",
       "    <tr>\n",
       "      <th>2</th>\n",
       "      <td>u of chicago admissions blames trump for chica...</td>\n",
       "      <td>the university of chicago s admissions office ...</td>\n",
       "      <td>0</td>\n",
       "    </tr>\n",
       "    <tr>\n",
       "      <th>3</th>\n",
       "      <td>pentagon says diplomatic tension with turkey n...</td>\n",
       "      <td>washington  reuters    a diplomatic dispute be...</td>\n",
       "      <td>1</td>\n",
       "    </tr>\n",
       "    <tr>\n",
       "      <th>4</th>\n",
       "      <td>u n  chief calls for united   appropriate acti...</td>\n",
       "      <td>united nations  reuters    united nations secr...</td>\n",
       "      <td>1</td>\n",
       "    </tr>\n",
       "    <tr>\n",
       "      <th>5</th>\n",
       "      <td>reince priebus does weird balancing act regar...</td>\n",
       "      <td>donald trump s recent talk of a  rigged electi...</td>\n",
       "      <td>0</td>\n",
       "    </tr>\n",
       "    <tr>\n",
       "      <th>6</th>\n",
       "      <td>you re fired  why the white house just fired a...</td>\n",
       "      <td>national security council aide craig deare was...</td>\n",
       "      <td>0</td>\n",
       "    </tr>\n",
       "    <tr>\n",
       "      <th>7</th>\n",
       "      <td>facebook user arrested for  offensive  posts a...</td>\n",
       "      <td>only months ago  obama s attorney general  lor...</td>\n",
       "      <td>0</td>\n",
       "    </tr>\n",
       "    <tr>\n",
       "      <th>8</th>\n",
       "      <td>internet slams trump over mother s day women ...</td>\n",
       "      <td>this morning our commander in chief wished hap...</td>\n",
       "      <td>0</td>\n",
       "    </tr>\n",
       "    <tr>\n",
       "      <th>9</th>\n",
       "      <td>trump to black voters  you re poor  your scho...</td>\n",
       "      <td>donald trump has once again showed why he will...</td>\n",
       "      <td>0</td>\n",
       "    </tr>\n",
       "  </tbody>\n",
       "</table>\n",
       "</div>"
      ],
      "text/plain": [
       "                                               title  \\\n",
       "0  life  if you love enamel pins  you ll love thi...   \n",
       "1  breaking  judge ambushed outside courthouse sh...   \n",
       "2  u of chicago admissions blames trump for chica...   \n",
       "3  pentagon says diplomatic tension with turkey n...   \n",
       "4  u n  chief calls for united   appropriate acti...   \n",
       "5   reince priebus does weird balancing act regar...   \n",
       "6  you re fired  why the white house just fired a...   \n",
       "7  facebook user arrested for  offensive  posts a...   \n",
       "8   internet slams trump over mother s day women ...   \n",
       "9   trump to black voters  you re poor  your scho...   \n",
       "\n",
       "                                                text  class  \n",
       "0  email if you can t get enough enamel pins  the...      0  \n",
       "1  jefferson county judge joseph j  bruzzese jr  ...      0  \n",
       "2  the university of chicago s admissions office ...      0  \n",
       "3  washington  reuters    a diplomatic dispute be...      1  \n",
       "4  united nations  reuters    united nations secr...      1  \n",
       "5  donald trump s recent talk of a  rigged electi...      0  \n",
       "6  national security council aide craig deare was...      0  \n",
       "7  only months ago  obama s attorney general  lor...      0  \n",
       "8  this morning our commander in chief wished hap...      0  \n",
       "9  donald trump has once again showed why he will...      0  "
      ]
     },
     "execution_count": 98,
     "metadata": {},
     "output_type": "execute_result"
    }
   ],
   "source": [
    "new_data.head(10)"
   ]
  },
  {
   "cell_type": "code",
   "execution_count": 99,
   "id": "96cc392f",
   "metadata": {},
   "outputs": [
    {
     "data": {
      "text/plain": [
       "(51213, 3)"
      ]
     },
     "execution_count": 99,
     "metadata": {},
     "output_type": "execute_result"
    }
   ],
   "source": [
    "new_data.shape"
   ]
  },
  {
   "cell_type": "markdown",
   "id": "7a666ce8",
   "metadata": {},
   "source": [
    "We now have a lot more data"
   ]
  },
  {
   "cell_type": "markdown",
   "id": "ebd3eb07",
   "metadata": {},
   "source": [
    "### Data splitting"
   ]
  },
  {
   "cell_type": "code",
   "execution_count": 100,
   "id": "d7e9cca8",
   "metadata": {},
   "outputs": [],
   "source": [
    "#X = data['title'].values + ' ' + data['text'].values\n",
    "X = new_data['text'].values\n",
    "Y = new_data['class'].values\n",
    "X_train, X_test, Y_train, Y_test = train_test_split(X, Y, test_size=0.15)"
   ]
  },
  {
   "cell_type": "markdown",
   "id": "3a62c3f6",
   "metadata": {},
   "source": [
    "### Text Vectorization"
   ]
  },
  {
   "cell_type": "code",
   "execution_count": 101,
   "id": "b2ff679e",
   "metadata": {},
   "outputs": [],
   "source": [
    "'''\n",
    "from sklearn.feature_extraction.text import TfidfVectorizer\n",
    "Vectorization = TfidfVectorizer()\n",
    "'''\n",
    "from sklearn.feature_extraction.text import CountVectorizer\n",
    "Vectorization = CountVectorizer()\n",
    "#'''\n",
    "Xv_train = Vectorization.fit_transform(X_train)\n",
    "Xv_test = Vectorization.transform(X_test)"
   ]
  },
  {
   "cell_type": "markdown",
   "id": "377df1b8",
   "metadata": {},
   "source": [
    "### Logistic Regression AGAIN"
   ]
  },
  {
   "cell_type": "code",
   "execution_count": 102,
   "id": "8e8b68ca",
   "metadata": {},
   "outputs": [
    {
     "data": {
      "text/html": [
       "<style>#sk-container-id-10 {color: black;background-color: white;}#sk-container-id-10 pre{padding: 0;}#sk-container-id-10 div.sk-toggleable {background-color: white;}#sk-container-id-10 label.sk-toggleable__label {cursor: pointer;display: block;width: 100%;margin-bottom: 0;padding: 0.3em;box-sizing: border-box;text-align: center;}#sk-container-id-10 label.sk-toggleable__label-arrow:before {content: \"▸\";float: left;margin-right: 0.25em;color: #696969;}#sk-container-id-10 label.sk-toggleable__label-arrow:hover:before {color: black;}#sk-container-id-10 div.sk-estimator:hover label.sk-toggleable__label-arrow:before {color: black;}#sk-container-id-10 div.sk-toggleable__content {max-height: 0;max-width: 0;overflow: hidden;text-align: left;background-color: #f0f8ff;}#sk-container-id-10 div.sk-toggleable__content pre {margin: 0.2em;color: black;border-radius: 0.25em;background-color: #f0f8ff;}#sk-container-id-10 input.sk-toggleable__control:checked~div.sk-toggleable__content {max-height: 200px;max-width: 100%;overflow: auto;}#sk-container-id-10 input.sk-toggleable__control:checked~label.sk-toggleable__label-arrow:before {content: \"▾\";}#sk-container-id-10 div.sk-estimator input.sk-toggleable__control:checked~label.sk-toggleable__label {background-color: #d4ebff;}#sk-container-id-10 div.sk-label input.sk-toggleable__control:checked~label.sk-toggleable__label {background-color: #d4ebff;}#sk-container-id-10 input.sk-hidden--visually {border: 0;clip: rect(1px 1px 1px 1px);clip: rect(1px, 1px, 1px, 1px);height: 1px;margin: -1px;overflow: hidden;padding: 0;position: absolute;width: 1px;}#sk-container-id-10 div.sk-estimator {font-family: monospace;background-color: #f0f8ff;border: 1px dotted black;border-radius: 0.25em;box-sizing: border-box;margin-bottom: 0.5em;}#sk-container-id-10 div.sk-estimator:hover {background-color: #d4ebff;}#sk-container-id-10 div.sk-parallel-item::after {content: \"\";width: 100%;border-bottom: 1px solid gray;flex-grow: 1;}#sk-container-id-10 div.sk-label:hover label.sk-toggleable__label {background-color: #d4ebff;}#sk-container-id-10 div.sk-serial::before {content: \"\";position: absolute;border-left: 1px solid gray;box-sizing: border-box;top: 0;bottom: 0;left: 50%;z-index: 0;}#sk-container-id-10 div.sk-serial {display: flex;flex-direction: column;align-items: center;background-color: white;padding-right: 0.2em;padding-left: 0.2em;position: relative;}#sk-container-id-10 div.sk-item {position: relative;z-index: 1;}#sk-container-id-10 div.sk-parallel {display: flex;align-items: stretch;justify-content: center;background-color: white;position: relative;}#sk-container-id-10 div.sk-item::before, #sk-container-id-10 div.sk-parallel-item::before {content: \"\";position: absolute;border-left: 1px solid gray;box-sizing: border-box;top: 0;bottom: 0;left: 50%;z-index: -1;}#sk-container-id-10 div.sk-parallel-item {display: flex;flex-direction: column;z-index: 1;position: relative;background-color: white;}#sk-container-id-10 div.sk-parallel-item:first-child::after {align-self: flex-end;width: 50%;}#sk-container-id-10 div.sk-parallel-item:last-child::after {align-self: flex-start;width: 50%;}#sk-container-id-10 div.sk-parallel-item:only-child::after {width: 0;}#sk-container-id-10 div.sk-dashed-wrapped {border: 1px dashed gray;margin: 0 0.4em 0.5em 0.4em;box-sizing: border-box;padding-bottom: 0.4em;background-color: white;}#sk-container-id-10 div.sk-label label {font-family: monospace;font-weight: bold;display: inline-block;line-height: 1.2em;}#sk-container-id-10 div.sk-label-container {text-align: center;}#sk-container-id-10 div.sk-container {/* jupyter's `normalize.less` sets `[hidden] { display: none; }` but bootstrap.min.css set `[hidden] { display: none !important; }` so we also need the `!important` here to be able to override the default hidden behavior on the sphinx rendered scikit-learn.org. See: https://github.com/scikit-learn/scikit-learn/issues/21755 */display: inline-block !important;position: relative;}#sk-container-id-10 div.sk-text-repr-fallback {display: none;}</style><div id=\"sk-container-id-10\" class=\"sk-top-container\"><div class=\"sk-text-repr-fallback\"><pre>LogisticRegression(max_iter=1000)</pre><b>In a Jupyter environment, please rerun this cell to show the HTML representation or trust the notebook. <br />On GitHub, the HTML representation is unable to render, please try loading this page with nbviewer.org.</b></div><div class=\"sk-container\" hidden><div class=\"sk-item\"><div class=\"sk-estimator sk-toggleable\"><input class=\"sk-toggleable__control sk-hidden--visually\" id=\"sk-estimator-id-10\" type=\"checkbox\" checked><label for=\"sk-estimator-id-10\" class=\"sk-toggleable__label sk-toggleable__label-arrow\">LogisticRegression</label><div class=\"sk-toggleable__content\"><pre>LogisticRegression(max_iter=1000)</pre></div></div></div></div></div>"
      ],
      "text/plain": [
       "LogisticRegression(max_iter=1000)"
      ]
     },
     "execution_count": 102,
     "metadata": {},
     "output_type": "execute_result"
    }
   ],
   "source": [
    "NewLogReg = LogisticRegression(max_iter=1000)\n",
    "NewLogReg.fit(Xv_train, Y_train)"
   ]
  },
  {
   "cell_type": "code",
   "execution_count": 103,
   "id": "496a8202",
   "metadata": {},
   "outputs": [
    {
     "data": {
      "text/plain": [
       "0.9747461598542047"
      ]
     },
     "execution_count": 103,
     "metadata": {},
     "output_type": "execute_result"
    }
   ],
   "source": [
    "pred_NewLogReg = NewLogReg.predict(Xv_test)\n",
    "NewLogReg.score(Xv_test, Y_test)"
   ]
  },
  {
   "cell_type": "code",
   "execution_count": 104,
   "id": "b4cc6573",
   "metadata": {},
   "outputs": [
    {
     "name": "stdout",
     "output_type": "stream",
     "text": [
      "              precision    recall  f1-score   support\n",
      "\n",
      "           0       0.97      0.98      0.98      3946\n",
      "           1       0.98      0.97      0.97      3736\n",
      "\n",
      "    accuracy                           0.97      7682\n",
      "   macro avg       0.97      0.97      0.97      7682\n",
      "weighted avg       0.97      0.97      0.97      7682\n",
      "\n"
     ]
    }
   ],
   "source": [
    "print(classification_report(Y_test, pred_NewLogReg))"
   ]
  },
  {
   "cell_type": "markdown",
   "id": "4c29eeb2",
   "metadata": {},
   "source": [
    "### Random Forest AGAIN"
   ]
  },
  {
   "cell_type": "code",
   "execution_count": 105,
   "id": "aeba8616",
   "metadata": {},
   "outputs": [
    {
     "data": {
      "text/html": [
       "<style>#sk-container-id-11 {color: black;background-color: white;}#sk-container-id-11 pre{padding: 0;}#sk-container-id-11 div.sk-toggleable {background-color: white;}#sk-container-id-11 label.sk-toggleable__label {cursor: pointer;display: block;width: 100%;margin-bottom: 0;padding: 0.3em;box-sizing: border-box;text-align: center;}#sk-container-id-11 label.sk-toggleable__label-arrow:before {content: \"▸\";float: left;margin-right: 0.25em;color: #696969;}#sk-container-id-11 label.sk-toggleable__label-arrow:hover:before {color: black;}#sk-container-id-11 div.sk-estimator:hover label.sk-toggleable__label-arrow:before {color: black;}#sk-container-id-11 div.sk-toggleable__content {max-height: 0;max-width: 0;overflow: hidden;text-align: left;background-color: #f0f8ff;}#sk-container-id-11 div.sk-toggleable__content pre {margin: 0.2em;color: black;border-radius: 0.25em;background-color: #f0f8ff;}#sk-container-id-11 input.sk-toggleable__control:checked~div.sk-toggleable__content {max-height: 200px;max-width: 100%;overflow: auto;}#sk-container-id-11 input.sk-toggleable__control:checked~label.sk-toggleable__label-arrow:before {content: \"▾\";}#sk-container-id-11 div.sk-estimator input.sk-toggleable__control:checked~label.sk-toggleable__label {background-color: #d4ebff;}#sk-container-id-11 div.sk-label input.sk-toggleable__control:checked~label.sk-toggleable__label {background-color: #d4ebff;}#sk-container-id-11 input.sk-hidden--visually {border: 0;clip: rect(1px 1px 1px 1px);clip: rect(1px, 1px, 1px, 1px);height: 1px;margin: -1px;overflow: hidden;padding: 0;position: absolute;width: 1px;}#sk-container-id-11 div.sk-estimator {font-family: monospace;background-color: #f0f8ff;border: 1px dotted black;border-radius: 0.25em;box-sizing: border-box;margin-bottom: 0.5em;}#sk-container-id-11 div.sk-estimator:hover {background-color: #d4ebff;}#sk-container-id-11 div.sk-parallel-item::after {content: \"\";width: 100%;border-bottom: 1px solid gray;flex-grow: 1;}#sk-container-id-11 div.sk-label:hover label.sk-toggleable__label {background-color: #d4ebff;}#sk-container-id-11 div.sk-serial::before {content: \"\";position: absolute;border-left: 1px solid gray;box-sizing: border-box;top: 0;bottom: 0;left: 50%;z-index: 0;}#sk-container-id-11 div.sk-serial {display: flex;flex-direction: column;align-items: center;background-color: white;padding-right: 0.2em;padding-left: 0.2em;position: relative;}#sk-container-id-11 div.sk-item {position: relative;z-index: 1;}#sk-container-id-11 div.sk-parallel {display: flex;align-items: stretch;justify-content: center;background-color: white;position: relative;}#sk-container-id-11 div.sk-item::before, #sk-container-id-11 div.sk-parallel-item::before {content: \"\";position: absolute;border-left: 1px solid gray;box-sizing: border-box;top: 0;bottom: 0;left: 50%;z-index: -1;}#sk-container-id-11 div.sk-parallel-item {display: flex;flex-direction: column;z-index: 1;position: relative;background-color: white;}#sk-container-id-11 div.sk-parallel-item:first-child::after {align-self: flex-end;width: 50%;}#sk-container-id-11 div.sk-parallel-item:last-child::after {align-self: flex-start;width: 50%;}#sk-container-id-11 div.sk-parallel-item:only-child::after {width: 0;}#sk-container-id-11 div.sk-dashed-wrapped {border: 1px dashed gray;margin: 0 0.4em 0.5em 0.4em;box-sizing: border-box;padding-bottom: 0.4em;background-color: white;}#sk-container-id-11 div.sk-label label {font-family: monospace;font-weight: bold;display: inline-block;line-height: 1.2em;}#sk-container-id-11 div.sk-label-container {text-align: center;}#sk-container-id-11 div.sk-container {/* jupyter's `normalize.less` sets `[hidden] { display: none; }` but bootstrap.min.css set `[hidden] { display: none !important; }` so we also need the `!important` here to be able to override the default hidden behavior on the sphinx rendered scikit-learn.org. See: https://github.com/scikit-learn/scikit-learn/issues/21755 */display: inline-block !important;position: relative;}#sk-container-id-11 div.sk-text-repr-fallback {display: none;}</style><div id=\"sk-container-id-11\" class=\"sk-top-container\"><div class=\"sk-text-repr-fallback\"><pre>RandomForestClassifier()</pre><b>In a Jupyter environment, please rerun this cell to show the HTML representation or trust the notebook. <br />On GitHub, the HTML representation is unable to render, please try loading this page with nbviewer.org.</b></div><div class=\"sk-container\" hidden><div class=\"sk-item\"><div class=\"sk-estimator sk-toggleable\"><input class=\"sk-toggleable__control sk-hidden--visually\" id=\"sk-estimator-id-11\" type=\"checkbox\" checked><label for=\"sk-estimator-id-11\" class=\"sk-toggleable__label sk-toggleable__label-arrow\">RandomForestClassifier</label><div class=\"sk-toggleable__content\"><pre>RandomForestClassifier()</pre></div></div></div></div></div>"
      ],
      "text/plain": [
       "RandomForestClassifier()"
      ]
     },
     "execution_count": 105,
     "metadata": {},
     "output_type": "execute_result"
    }
   ],
   "source": [
    "NewRandomForestModel = RandomForestClassifier()\n",
    "NewRandomForestModel.fit(Xv_train, Y_train)"
   ]
  },
  {
   "cell_type": "code",
   "execution_count": 106,
   "id": "15d99c58",
   "metadata": {},
   "outputs": [
    {
     "data": {
      "text/plain": [
       "0.9575631346003645"
      ]
     },
     "execution_count": 106,
     "metadata": {},
     "output_type": "execute_result"
    }
   ],
   "source": [
    "pred_NewRandomForest = NewRandomForestModel.predict(Xv_test)\n",
    "NewRandomForestModel.score(Xv_test, Y_test)"
   ]
  },
  {
   "cell_type": "code",
   "execution_count": 107,
   "id": "04822c04",
   "metadata": {},
   "outputs": [
    {
     "name": "stdout",
     "output_type": "stream",
     "text": [
      "              precision    recall  f1-score   support\n",
      "\n",
      "           0       0.94      0.97      0.96      3946\n",
      "           1       0.97      0.94      0.96      3736\n",
      "\n",
      "    accuracy                           0.96      7682\n",
      "   macro avg       0.96      0.96      0.96      7682\n",
      "weighted avg       0.96      0.96      0.96      7682\n",
      "\n"
     ]
    }
   ],
   "source": [
    "print(classification_report(Y_test, pred_NewRandomForest))"
   ]
  },
  {
   "cell_type": "markdown",
   "id": "268560c0",
   "metadata": {},
   "source": [
    "### SVM AGAIN"
   ]
  },
  {
   "cell_type": "code",
   "execution_count": 108,
   "id": "482a20d5",
   "metadata": {},
   "outputs": [
    {
     "data": {
      "text/html": [
       "<style>#sk-container-id-12 {color: black;background-color: white;}#sk-container-id-12 pre{padding: 0;}#sk-container-id-12 div.sk-toggleable {background-color: white;}#sk-container-id-12 label.sk-toggleable__label {cursor: pointer;display: block;width: 100%;margin-bottom: 0;padding: 0.3em;box-sizing: border-box;text-align: center;}#sk-container-id-12 label.sk-toggleable__label-arrow:before {content: \"▸\";float: left;margin-right: 0.25em;color: #696969;}#sk-container-id-12 label.sk-toggleable__label-arrow:hover:before {color: black;}#sk-container-id-12 div.sk-estimator:hover label.sk-toggleable__label-arrow:before {color: black;}#sk-container-id-12 div.sk-toggleable__content {max-height: 0;max-width: 0;overflow: hidden;text-align: left;background-color: #f0f8ff;}#sk-container-id-12 div.sk-toggleable__content pre {margin: 0.2em;color: black;border-radius: 0.25em;background-color: #f0f8ff;}#sk-container-id-12 input.sk-toggleable__control:checked~div.sk-toggleable__content {max-height: 200px;max-width: 100%;overflow: auto;}#sk-container-id-12 input.sk-toggleable__control:checked~label.sk-toggleable__label-arrow:before {content: \"▾\";}#sk-container-id-12 div.sk-estimator input.sk-toggleable__control:checked~label.sk-toggleable__label {background-color: #d4ebff;}#sk-container-id-12 div.sk-label input.sk-toggleable__control:checked~label.sk-toggleable__label {background-color: #d4ebff;}#sk-container-id-12 input.sk-hidden--visually {border: 0;clip: rect(1px 1px 1px 1px);clip: rect(1px, 1px, 1px, 1px);height: 1px;margin: -1px;overflow: hidden;padding: 0;position: absolute;width: 1px;}#sk-container-id-12 div.sk-estimator {font-family: monospace;background-color: #f0f8ff;border: 1px dotted black;border-radius: 0.25em;box-sizing: border-box;margin-bottom: 0.5em;}#sk-container-id-12 div.sk-estimator:hover {background-color: #d4ebff;}#sk-container-id-12 div.sk-parallel-item::after {content: \"\";width: 100%;border-bottom: 1px solid gray;flex-grow: 1;}#sk-container-id-12 div.sk-label:hover label.sk-toggleable__label {background-color: #d4ebff;}#sk-container-id-12 div.sk-serial::before {content: \"\";position: absolute;border-left: 1px solid gray;box-sizing: border-box;top: 0;bottom: 0;left: 50%;z-index: 0;}#sk-container-id-12 div.sk-serial {display: flex;flex-direction: column;align-items: center;background-color: white;padding-right: 0.2em;padding-left: 0.2em;position: relative;}#sk-container-id-12 div.sk-item {position: relative;z-index: 1;}#sk-container-id-12 div.sk-parallel {display: flex;align-items: stretch;justify-content: center;background-color: white;position: relative;}#sk-container-id-12 div.sk-item::before, #sk-container-id-12 div.sk-parallel-item::before {content: \"\";position: absolute;border-left: 1px solid gray;box-sizing: border-box;top: 0;bottom: 0;left: 50%;z-index: -1;}#sk-container-id-12 div.sk-parallel-item {display: flex;flex-direction: column;z-index: 1;position: relative;background-color: white;}#sk-container-id-12 div.sk-parallel-item:first-child::after {align-self: flex-end;width: 50%;}#sk-container-id-12 div.sk-parallel-item:last-child::after {align-self: flex-start;width: 50%;}#sk-container-id-12 div.sk-parallel-item:only-child::after {width: 0;}#sk-container-id-12 div.sk-dashed-wrapped {border: 1px dashed gray;margin: 0 0.4em 0.5em 0.4em;box-sizing: border-box;padding-bottom: 0.4em;background-color: white;}#sk-container-id-12 div.sk-label label {font-family: monospace;font-weight: bold;display: inline-block;line-height: 1.2em;}#sk-container-id-12 div.sk-label-container {text-align: center;}#sk-container-id-12 div.sk-container {/* jupyter's `normalize.less` sets `[hidden] { display: none; }` but bootstrap.min.css set `[hidden] { display: none !important; }` so we also need the `!important` here to be able to override the default hidden behavior on the sphinx rendered scikit-learn.org. See: https://github.com/scikit-learn/scikit-learn/issues/21755 */display: inline-block !important;position: relative;}#sk-container-id-12 div.sk-text-repr-fallback {display: none;}</style><div id=\"sk-container-id-12\" class=\"sk-top-container\"><div class=\"sk-text-repr-fallback\"><pre>SVC()</pre><b>In a Jupyter environment, please rerun this cell to show the HTML representation or trust the notebook. <br />On GitHub, the HTML representation is unable to render, please try loading this page with nbviewer.org.</b></div><div class=\"sk-container\" hidden><div class=\"sk-item\"><div class=\"sk-estimator sk-toggleable\"><input class=\"sk-toggleable__control sk-hidden--visually\" id=\"sk-estimator-id-12\" type=\"checkbox\" checked><label for=\"sk-estimator-id-12\" class=\"sk-toggleable__label sk-toggleable__label-arrow\">SVC</label><div class=\"sk-toggleable__content\"><pre>SVC()</pre></div></div></div></div></div>"
      ],
      "text/plain": [
       "SVC()"
      ]
     },
     "execution_count": 108,
     "metadata": {},
     "output_type": "execute_result"
    }
   ],
   "source": [
    "NewSvmModel = svm.SVC()\n",
    "NewSvmModel.fit(Xv_train, Y_train)"
   ]
  },
  {
   "cell_type": "code",
   "execution_count": 109,
   "id": "d1659173",
   "metadata": {},
   "outputs": [
    {
     "data": {
      "text/plain": [
       "0.9635511585524603"
      ]
     },
     "execution_count": 109,
     "metadata": {},
     "output_type": "execute_result"
    }
   ],
   "source": [
    "pred_NewSVM = NewSvmModel.predict(Xv_test)\n",
    "NewSvmModel.score(Xv_test, Y_test)"
   ]
  },
  {
   "cell_type": "code",
   "execution_count": 110,
   "id": "d0ed34cb",
   "metadata": {},
   "outputs": [
    {
     "name": "stdout",
     "output_type": "stream",
     "text": [
      "              precision    recall  f1-score   support\n",
      "\n",
      "           0       0.95      0.98      0.97      3946\n",
      "           1       0.98      0.94      0.96      3736\n",
      "\n",
      "    accuracy                           0.96      7682\n",
      "   macro avg       0.96      0.96      0.96      7682\n",
      "weighted avg       0.96      0.96      0.96      7682\n",
      "\n"
     ]
    }
   ],
   "source": [
    "print(classification_report(Y_test, pred_NewSVM))"
   ]
  },
  {
   "cell_type": "markdown",
   "id": "986da234",
   "metadata": {},
   "source": [
    "### Exportation"
   ]
  },
  {
   "cell_type": "code",
   "execution_count": 111,
   "id": "b4311fd9",
   "metadata": {},
   "outputs": [],
   "source": [
    "'''\n",
    "\n",
    "pickle.dump(NewLogReg, open('N_LogisticRegression_TfidfVectorizer.pkl','wb'))\n",
    "pickle.dump(NewRandomForestModel, open('N_RandomForest_TfidfVectorizer.pkl','wb'))\n",
    "pickle.dump(NewSvmModel, open('N_SVM_TfidfVectorizer.pkl','wb'))\n",
    "\n",
    "'''\n",
    "\n",
    "pickle.dump(NewLogReg, open('N_LogisticRegression_CountVectorizer.pkl','wb'))\n",
    "pickle.dump(NewRandomForestModel, open('N_RandomForest_CountVectorizer.pkl','wb'))\n",
    "pickle.dump(NewSvmModel, open('N_SVM_CountVectorizer.pkl','wb'))\n",
    "\n",
    "#'''"
   ]
  },
  {
   "cell_type": "markdown",
   "id": "c91cbd62",
   "metadata": {},
   "source": [
    "## Let's do some tests"
   ]
  },
  {
   "cell_type": "markdown",
   "id": "80eaccca",
   "metadata": {},
   "source": [
    "### Import saved models"
   ]
  },
  {
   "cell_type": "code",
   "execution_count": null,
   "id": "576f1cfd",
   "metadata": {},
   "outputs": [],
   "source": [
    "import pickle"
   ]
  },
  {
   "cell_type": "markdown",
   "id": "4183b096",
   "metadata": {},
   "source": [
    "#### Logistic Regression "
   ]
  },
  {
   "cell_type": "code",
   "execution_count": 112,
   "id": "4361ef1b",
   "metadata": {},
   "outputs": [],
   "source": [
    "#'''\n",
    "with open('LogisticRegression_CountVectorizer.pkl', 'rb') as file:\n",
    "    LR_CV_Model = pickle.load(file)\n",
    "#'''\n",
    "#'''\n",
    "with open('LogisticRegression_TfidfVectorizer.pkl', 'rb') as file:\n",
    "    LR_TV_Model = pickle.load(file)\n",
    "#'''\n",
    "with open('N_LogisticRegression_CountVectorizer.pkl', 'rb') as file:\n",
    "    LR_N_CV_Model = pickle.load(file)\n",
    "#'''\n",
    "#'''\n",
    "with open('N_LogisticRegression_TfidfVectorizer.pkl', 'rb') as file:\n",
    "    LR_N_TV_Model = pickle.load(file)\n",
    "#'''"
   ]
  },
  {
   "cell_type": "markdown",
   "id": "e7121bc4",
   "metadata": {},
   "source": [
    "#### Random Forest"
   ]
  },
  {
   "cell_type": "code",
   "execution_count": 113,
   "id": "616eb913",
   "metadata": {},
   "outputs": [],
   "source": [
    "#'''\n",
    "with open('RandomForest_CountVectorizer.pkl', 'rb') as file:\n",
    "    RF_CV_Model = pickle.load(file)\n",
    "#'''\n",
    "#'''\n",
    "with open('RandomForest_TfidfVectorizer.pkl', 'rb') as file:\n",
    "    RF_TV_Model = pickle.load(file)\n",
    "#'''\n",
    "#'''\n",
    "with open('N_RandomForest_CountVectorizer.pkl', 'rb') as file:\n",
    "    RF_N_CV_Model = pickle.load(file)\n",
    "#'''\n",
    "#'''\n",
    "with open('N_RandomForest_TfidfVectorizer.pkl', 'rb') as file:\n",
    "    RF_N_TV_Model = pickle.load(file)\n",
    "#'''"
   ]
  },
  {
   "cell_type": "markdown",
   "id": "3d74a02b",
   "metadata": {},
   "source": [
    "#### SVM"
   ]
  },
  {
   "cell_type": "code",
   "execution_count": 114,
   "id": "33411956",
   "metadata": {},
   "outputs": [],
   "source": [
    "#'''\n",
    "with open('SVM_CountVectorizer.pkl', 'rb') as file:\n",
    "    SVM_CV_Model = pickle.load(file)\n",
    "#'''\n",
    "#'''\n",
    "with open('SVM_TfidfVectorizer.pkl', 'rb') as file:\n",
    "    SVM_TV_Model = pickle.load(file)\n",
    "#'''\n",
    "#'''\n",
    "with open('N_SVM_CountVectorizer.pkl', 'rb') as file:\n",
    "    SVM_N_CV_Model = pickle.load(file)\n",
    "#'''\n",
    "#'''\n",
    "with open('N_SVM_TfidfVectorizer.pkl', 'rb') as file:\n",
    "    SVM_N_TV_Model = pickle.load(file)\n",
    "#'''"
   ]
  },
  {
   "cell_type": "code",
   "execution_count": 63,
   "id": "61ac0811",
   "metadata": {},
   "outputs": [],
   "source": [
    "def isFake(n):\n",
    "    if n == 0:\n",
    "        return \"It is a fake news\"\n",
    "    elif n == 1:\n",
    "        return \"It is not a fake news\""
   ]
  },
  {
   "cell_type": "code",
   "execution_count": 115,
   "id": "213f38dc",
   "metadata": {},
   "outputs": [],
   "source": [
    "def testing(news, val):\n",
    "    print(\"This news is fake\" if val == 0 else \"This news is real\")\n",
    "    news = txtpreprocess(news)\n",
    "    newsv = vectorization.transform([news])\n",
    "    newsV = Vectorization.transform([news])\n",
    "    \n",
    "    '''\n",
    "    pred_lr = LR_TV_Model.predict(newsv)\n",
    "    pred_LR = LR_N_TV_Model.predict(newsV)\n",
    "    #'''\n",
    "    pred_lr = LR_CV_Model.predict(newsv)\n",
    "    pred_LR = LR_N_CV_Model.predict(newsV)\n",
    "    #'''\n",
    "    \n",
    "    print(\"Logistic Regression:\")\n",
    "    print(\"  Old prediction: {}\".format(isFake(pred_lr[0])))\n",
    "    print(\"  New prediction: {}\".format(isFake(pred_LR[0])))\n",
    "    \n",
    "    '''\n",
    "    pred_rf = RF_TV_Model.predict(newsv)\n",
    "    pred_RF = RF_N_TV_Model.predict(newsV)\n",
    "    #'''\n",
    "    pred_rf = RF_CV_Model.predict(newsv)\n",
    "    pred_RF = RF_N_CV_Model.predict(newsV)\n",
    "    #'''\n",
    "    \n",
    "    print(\"Random Forest:\")\n",
    "    print(\"  Old prediction: {}\".format(isFake(pred_rf[0])))\n",
    "    print(\"  New prediction: {}\".format(isFake(pred_RF[0])))\n",
    "    \n",
    "    '''\n",
    "    pred_svm = SVM_TV_Model.predict(newsv)\n",
    "    pred_SVM = SVM_N_TV_Model.predict(newsV)\n",
    "    #'''\n",
    "    pred_svm = SVM_CV_Model.predict(newsv)\n",
    "    pred_SVM = SVM_N_CV_Model.predict(newsV)\n",
    "    #'''\n",
    "    \n",
    "    print(\"SVM:\")\n",
    "    print(\"  Old prediction: {}\".format(isFake(pred_svm[0])))\n",
    "    print(\"  New prediction: {}\".format(isFake(pred_SVM[0])))"
   ]
  },
  {
   "cell_type": "code",
   "execution_count": 116,
   "id": "7b3ae5e6",
   "metadata": {},
   "outputs": [
    {
     "name": "stdout",
     "output_type": "stream",
     "text": [
      "geneva  reuters    north korea and the united states clashed at a u n  forum on tuesday over their military intentions towards one another  with pyongyang s envoy declaring it would  never  put its nuclear deterrent on the negotiating table  japan  well within reach of north korea s missiles  said the world must maintain pressure on the reclusive country to rein in its nuclear and missile programs and now was not the time for a resumption of multi party talks  north korea has pursued its weapons programs in defiance of u n  security council sanctions and ignored all calls  including from major ally china  to stop  prompting a bellicose exchange of rhetoric between the north and the united states  north korea justifies its weapons programs  including its recent threat to fire missiles towards the u s  pacific territory of guam  by pointing to perceived u s  hostility  such as military exercises with south korea this week  u s  disarmament ambassador robert wood told a u n  sponsored conference on disarmament in geneva u s  president donald trump s top priority was to protect the united states and its allies against the  growing threat  from north korea and america was ready to use  the full range of capabilities  at its disposal  the  path to dialogue still remained an option  for pyongyang and it had the choice between poverty and belligerence on the one hand and prosperity and acceptance  north korea s envoy told the same forum the north s nuclear deterrent would never be up for negotiation  echoing pyongyang s regular denunciation of u s   aggression    the measures taken by the dprk to strengthen its nuclear deterrence and develop inter continental rockets is justifiable and a legitimate option for self defense in the face of such apparent and real threats   diplomat ju yong chol told the forum  referring to  constant nuclear threats  by the united states  dprk stands for the north s official name  the democratic people s republic of korea  regarding joint u s  south korean military exercises that began on monday  he warned   the ongoing military adventure would certainly add gasoline to the fire  driving the current tense situation to further deterioration   japanese foreign minister taro kono said pressure must be maintained until the north demonstrated it would give up its nuclear program   it s not the time to discuss  the resumption of  six party talks   kono said  referring to stalled negotiations involving both koreas  the united states  russia  china and japan   it s time to exert pressure   he told reporters  the head of the u s  military s pacific command said diplomacy was key  admiral harry harris was in south korea to observe annual joint military drills with the south korean military  which the north called a step towards nuclear conflict masterminded by  war maniacs    so we hope and we work for diplomatic solutions to the challenge presented by kim jong un   harris told reporters at a u s  air base in osan  about an hour from seoul  referring to the north korean leader  he said diplomacy was  the most important starting point  in response to the north s threat  when asked what actions by north korea might trigger a preemptive u s  strike against it   as far as a timeline  it would be crazy for me to share with you those tripwires in advance  if we did that  it would hardly be a military strategy   he said  the united states and south korea began the long planned exercises on monday  called the ulchi freedom guardian  which the allies have said are purely defensive  the drills involve tens of thousands of troops as well as computer simulations designed to prepare for war with a nuclear capable north korea  the united states and south korea are technically still at war with the north because their   conflict ended in a truce  not a peace treaty   delegations from about  countries spoke at the four hour u n  session  including britain  france  australia and south korea  all of which criticized north korea   i would like to repeat the appeal to the dprk to listen to the fact that there is no alternative to stopping the different provocations and to return to dialogue   south korean ambassador kim inchul said   we have never threatened the dprk with any attacks and we have never promoted the use of force   \n"
     ]
    }
   ],
   "source": [
    "news = data_for_test['text'][1]\n",
    "val = data_for_test['class'][1]\n",
    "\n",
    "print(news)"
   ]
  },
  {
   "cell_type": "code",
   "execution_count": 117,
   "id": "8c6bb950",
   "metadata": {},
   "outputs": [
    {
     "name": "stdout",
     "output_type": "stream",
     "text": [
      "This news is real\n",
      "Logistic Regression:\n",
      "  Old prediction: It is a fake news\n",
      "  New prediction: It is not a fake news\n",
      "Random Forest:\n",
      "  Old prediction: It is not a fake news\n",
      "  New prediction: It is not a fake news\n",
      "SVM:\n",
      "  Old prediction: It is not a fake news\n",
      "  New prediction: It is not a fake news\n"
     ]
    }
   ],
   "source": [
    "testing(news, val)"
   ]
  },
  {
   "cell_type": "code",
   "execution_count": 118,
   "id": "2c2fef64",
   "metadata": {},
   "outputs": [
    {
     "name": "stdout",
     "output_type": "stream",
     "text": [
      "This news is real\n",
      "Logistic Regression:\n",
      "  Old prediction: It is not a fake news\n",
      "  New prediction: It is not a fake news\n",
      "Random Forest:\n",
      "  Old prediction: It is a fake news\n",
      "  New prediction: It is not a fake news\n",
      "SVM:\n",
      "  Old prediction: It is a fake news\n",
      "  New prediction: It is not a fake news\n",
      "\n",
      "\n",
      "\n",
      "This news is real\n",
      "Logistic Regression:\n",
      "  Old prediction: It is a fake news\n",
      "  New prediction: It is not a fake news\n",
      "Random Forest:\n",
      "  Old prediction: It is not a fake news\n",
      "  New prediction: It is not a fake news\n",
      "SVM:\n",
      "  Old prediction: It is not a fake news\n",
      "  New prediction: It is not a fake news\n",
      "\n",
      "\n",
      "\n",
      "This news is fake\n",
      "Logistic Regression:\n",
      "  Old prediction: It is a fake news\n",
      "  New prediction: It is a fake news\n",
      "Random Forest:\n",
      "  Old prediction: It is a fake news\n",
      "  New prediction: It is a fake news\n",
      "SVM:\n",
      "  Old prediction: It is a fake news\n",
      "  New prediction: It is a fake news\n",
      "\n",
      "\n",
      "\n",
      "This news is fake\n",
      "Logistic Regression:\n",
      "  Old prediction: It is a fake news\n",
      "  New prediction: It is a fake news\n",
      "Random Forest:\n",
      "  Old prediction: It is not a fake news\n",
      "  New prediction: It is a fake news\n",
      "SVM:\n",
      "  Old prediction: It is a fake news\n",
      "  New prediction: It is a fake news\n",
      "\n",
      "\n",
      "\n",
      "This news is real\n",
      "Logistic Regression:\n",
      "  Old prediction: It is not a fake news\n",
      "  New prediction: It is not a fake news\n",
      "Random Forest:\n",
      "  Old prediction: It is not a fake news\n",
      "  New prediction: It is not a fake news\n",
      "SVM:\n",
      "  Old prediction: It is not a fake news\n",
      "  New prediction: It is not a fake news\n",
      "\n",
      "\n",
      "\n",
      "This news is real\n",
      "Logistic Regression:\n",
      "  Old prediction: It is not a fake news\n",
      "  New prediction: It is not a fake news\n",
      "Random Forest:\n",
      "  Old prediction: It is not a fake news\n",
      "  New prediction: It is not a fake news\n",
      "SVM:\n",
      "  Old prediction: It is not a fake news\n",
      "  New prediction: It is not a fake news\n",
      "\n",
      "\n",
      "\n",
      "This news is fake\n",
      "Logistic Regression:\n",
      "  Old prediction: It is a fake news\n",
      "  New prediction: It is a fake news\n",
      "Random Forest:\n",
      "  Old prediction: It is a fake news\n",
      "  New prediction: It is a fake news\n",
      "SVM:\n",
      "  Old prediction: It is a fake news\n",
      "  New prediction: It is a fake news\n",
      "\n",
      "\n",
      "\n",
      "This news is real\n",
      "Logistic Regression:\n",
      "  Old prediction: It is a fake news\n",
      "  New prediction: It is not a fake news\n",
      "Random Forest:\n",
      "  Old prediction: It is a fake news\n",
      "  New prediction: It is not a fake news\n",
      "SVM:\n",
      "  Old prediction: It is a fake news\n",
      "  New prediction: It is not a fake news\n",
      "\n",
      "\n",
      "\n",
      "This news is real\n",
      "Logistic Regression:\n",
      "  Old prediction: It is a fake news\n",
      "  New prediction: It is not a fake news\n",
      "Random Forest:\n",
      "  Old prediction: It is a fake news\n",
      "  New prediction: It is not a fake news\n",
      "SVM:\n",
      "  Old prediction: It is a fake news\n",
      "  New prediction: It is not a fake news\n",
      "\n",
      "\n",
      "\n",
      "This news is real\n",
      "Logistic Regression:\n",
      "  Old prediction: It is not a fake news\n",
      "  New prediction: It is not a fake news\n",
      "Random Forest:\n",
      "  Old prediction: It is a fake news\n",
      "  New prediction: It is not a fake news\n",
      "SVM:\n",
      "  Old prediction: It is a fake news\n",
      "  New prediction: It is not a fake news\n",
      "\n",
      "\n",
      "\n",
      "This news is real\n",
      "Logistic Regression:\n",
      "  Old prediction: It is a fake news\n",
      "  New prediction: It is not a fake news\n",
      "Random Forest:\n",
      "  Old prediction: It is a fake news\n",
      "  New prediction: It is not a fake news\n",
      "SVM:\n",
      "  Old prediction: It is a fake news\n",
      "  New prediction: It is not a fake news\n",
      "\n",
      "\n",
      "\n",
      "This news is fake\n",
      "Logistic Regression:\n",
      "  Old prediction: It is not a fake news\n",
      "  New prediction: It is a fake news\n",
      "Random Forest:\n",
      "  Old prediction: It is a fake news\n",
      "  New prediction: It is a fake news\n",
      "SVM:\n",
      "  Old prediction: It is a fake news\n",
      "  New prediction: It is a fake news\n",
      "\n",
      "\n",
      "\n",
      "This news is fake\n",
      "Logistic Regression:\n",
      "  Old prediction: It is a fake news\n",
      "  New prediction: It is a fake news\n",
      "Random Forest:\n",
      "  Old prediction: It is a fake news\n",
      "  New prediction: It is a fake news\n",
      "SVM:\n",
      "  Old prediction: It is a fake news\n",
      "  New prediction: It is a fake news\n",
      "\n",
      "\n",
      "\n",
      "This news is fake\n",
      "Logistic Regression:\n",
      "  Old prediction: It is not a fake news\n",
      "  New prediction: It is a fake news\n",
      "Random Forest:\n",
      "  Old prediction: It is not a fake news\n",
      "  New prediction: It is a fake news\n",
      "SVM:\n",
      "  Old prediction: It is not a fake news\n",
      "  New prediction: It is a fake news\n",
      "\n",
      "\n",
      "\n",
      "This news is real\n",
      "Logistic Regression:\n",
      "  Old prediction: It is not a fake news\n",
      "  New prediction: It is not a fake news\n",
      "Random Forest:\n",
      "  Old prediction: It is a fake news\n",
      "  New prediction: It is not a fake news\n",
      "SVM:\n",
      "  Old prediction: It is a fake news\n",
      "  New prediction: It is not a fake news\n",
      "\n",
      "\n",
      "\n",
      "This news is fake\n",
      "Logistic Regression:\n",
      "  Old prediction: It is a fake news\n",
      "  New prediction: It is a fake news\n",
      "Random Forest:\n",
      "  Old prediction: It is a fake news\n",
      "  New prediction: It is a fake news\n",
      "SVM:\n",
      "  Old prediction: It is a fake news\n",
      "  New prediction: It is a fake news\n",
      "\n",
      "\n",
      "\n",
      "This news is fake\n",
      "Logistic Regression:\n",
      "  Old prediction: It is a fake news\n",
      "  New prediction: It is a fake news\n",
      "Random Forest:\n",
      "  Old prediction: It is not a fake news\n",
      "  New prediction: It is a fake news\n",
      "SVM:\n",
      "  Old prediction: It is a fake news\n",
      "  New prediction: It is a fake news\n",
      "\n",
      "\n",
      "\n",
      "This news is real\n",
      "Logistic Regression:\n",
      "  Old prediction: It is not a fake news\n",
      "  New prediction: It is not a fake news\n",
      "Random Forest:\n",
      "  Old prediction: It is a fake news\n",
      "  New prediction: It is not a fake news\n",
      "SVM:\n",
      "  Old prediction: It is a fake news\n",
      "  New prediction: It is not a fake news\n",
      "\n",
      "\n",
      "\n",
      "This news is fake\n",
      "Logistic Regression:\n",
      "  Old prediction: It is a fake news\n",
      "  New prediction: It is a fake news\n",
      "Random Forest:\n",
      "  Old prediction: It is a fake news\n",
      "  New prediction: It is a fake news\n",
      "SVM:\n",
      "  Old prediction: It is a fake news\n",
      "  New prediction: It is a fake news\n",
      "\n",
      "\n",
      "\n",
      "This news is fake\n",
      "Logistic Regression:\n",
      "  Old prediction: It is a fake news\n",
      "  New prediction: It is a fake news\n",
      "Random Forest:\n",
      "  Old prediction: It is a fake news\n",
      "  New prediction: It is a fake news\n",
      "SVM:\n",
      "  Old prediction: It is a fake news\n",
      "  New prediction: It is a fake news\n",
      "\n",
      "\n",
      "\n"
     ]
    }
   ],
   "source": [
    "for i in range(0, 20):\n",
    "    # data_for_test is created just after loading new datas\n",
    "    news = data_for_test['text'][i]\n",
    "    val = data_for_test['class'][i]\n",
    "    testing(news, val)\n",
    "    print(\"\\n\\n\")"
   ]
  },
  {
   "cell_type": "markdown",
   "id": "14d5fca7",
   "metadata": {},
   "source": [
    "## Observation"
   ]
  },
  {
   "cell_type": "markdown",
   "id": "d99bf796",
   "metadata": {},
   "source": [
    "On the whole, increasing the data in the dataset has improved the performance of the new models. However, having more data also results in longer training times, especially for the SVM model.  \n",
    "The most performant models are the SVM trained with a TfidfVectorizer and the Logistic Regression model with a CountVectorizer."
   ]
  },
  {
   "cell_type": "code",
   "execution_count": null,
   "id": "4df52cc2",
   "metadata": {},
   "outputs": [],
   "source": []
  }
 ],
 "metadata": {
  "kernelspec": {
   "display_name": "Python 3 (ipykernel)",
   "language": "python",
   "name": "python3"
  },
  "language_info": {
   "codemirror_mode": {
    "name": "ipython",
    "version": 3
   },
   "file_extension": ".py",
   "mimetype": "text/x-python",
   "name": "python",
   "nbconvert_exporter": "python",
   "pygments_lexer": "ipython3",
   "version": "3.9.2"
  }
 },
 "nbformat": 4,
 "nbformat_minor": 5
}
